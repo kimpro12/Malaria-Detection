{
 "cells": [
  {
   "cell_type": "markdown",
   "id": "48efc834",
   "metadata": {},
   "source": [
    "# Import libaries"
   ]
  },
  {
   "cell_type": "code",
   "execution_count": null,
   "id": "50eb8847",
   "metadata": {},
   "outputs": [],
   "source": [
    "import os\n",
    "import numpy as np\n",
    "import tensorflow as tf\n",
    "from tensorflow.keras.preprocessing.image import ImageDataGenerator\n",
    "from tensorflow import keras\n",
    "from tensorflow.keras import layers"
   ]
  },
  {
   "cell_type": "markdown",
   "id": "eab0192a",
   "metadata": {},
   "source": [
    "# Load dataset and augmentation"
   ]
  },
  {
   "cell_type": "code",
   "execution_count": null,
   "id": "b9bebe6a",
   "metadata": {},
   "outputs": [],
   "source": [
    "BASE_DIR   = \"Dataset\"              # Dataset/{train,val,test}/{Parasitized,Uninfected}\n",
    "IMG_SIZE   = (224, 224)\n",
    "BATCH_SIZE = 64\n",
    "SEED       = 42\n",
    "\n",
    "# ---- Hàm augment nâng cao chèn vào preprocessing_function ----\n",
    "def advanced_aug(x):\n",
    "    \"\"\"\n",
    "    x: HxWxC, numpy array hoặc EagerTensor.\n",
    "    Trả về ảnh float32 trong [0,1].\n",
    "    \"\"\"\n",
    "    x = tf.convert_to_tensor(x, dtype=tf.float32)\n",
    "    # đảm bảo trong [0,1] (phòng trường hợp rescale chưa chạy trước đó)\n",
    "    if tf.reduce_max(x) > 1.0:\n",
    "        x = x / 255.0\n",
    "\n",
    "    # Biến đổi màu nâng cao (tf.image)\n",
    "    x = tf.image.random_contrast(x, 0.8, 1.2)\n",
    "    x = tf.image.random_saturation(x, 0.7, 1.3)\n",
    "    x = tf.image.random_hue(x, 0.03)\n",
    "\n",
    "    # Mô phỏng nén JPEG (cần uint8)\n",
    "    u8 = tf.image.convert_image_dtype(x, tf.uint8)\n",
    "    u8 = tf.image.random_jpeg_quality(u8, min_jpeg_quality=70, max_jpeg_quality=100)\n",
    "    x  = tf.image.convert_image_dtype(u8, tf.float32)\n",
    "\n",
    "    # Gaussian noise nhẹ\n",
    "    noise = tf.random.normal(tf.shape(x), mean=0.0, stddev=0.02, dtype=tf.float32)\n",
    "    x = tf.clip_by_value(x + noise, 0.0, 1.0)\n",
    "\n",
    "    return x.numpy()  # ImageDataGenerator mong đợi numpy array\n",
    "\n",
    "# ---- Train generator: đầy đủ augmentation ----\n",
    "train_datagen = ImageDataGenerator(\n",
    "    rescale=1./255,               # chuẩn hoá giá trị pixel\n",
    "    rotation_range=25,            # [-25°, +25°]\n",
    "    width_shift_range=0.10,       # tịnh tiến ngang ±10%\n",
    "    height_shift_range=0.10,      # tịnh tiến dọc ±10%\n",
    "    shear_range=0.10,             # shear\n",
    "    zoom_range=[0.9, 1.1],        # zoom in/out\n",
    "    horizontal_flip=True,         # lật ngang (hợp lý cho hình hiển vi)\n",
    "    vertical_flip=True,           # lật dọc (thường vẫn OK cho tế bào)\n",
    "    brightness_range=[0.8, 1.2],  # thay đổi độ sáng\n",
    "    channel_shift_range=10.0,     # dịch kênh màu nhẹ (uint8-scale)\n",
    "    fill_mode=\"reflect\",          # điền vùng trống khi transform\n",
    "    preprocessing_function=advanced_aug  # thêm các phép nâng cao\n",
    ")\n",
    "\n",
    "train_gen = train_datagen.flow_from_directory(\n",
    "    directory=os.path.join(BASE_DIR, \"train\"),\n",
    "    target_size=IMG_SIZE,\n",
    "    batch_size=BATCH_SIZE,\n",
    "    class_mode=\"binary\",   # 2 lớp\n",
    "    shuffle=True,\n",
    "    seed=SEED\n",
    ")\n",
    "\n",
    "# ---- Val/Test: chỉ rescale, không augment ----\n",
    "common_eval_datagen = ImageDataGenerator(rescale=1./255)\n",
    "\n",
    "val_gen = common_eval_datagen.flow_from_directory(\n",
    "    directory=os.path.join(BASE_DIR, \"val\"),\n",
    "    target_size=IMG_SIZE,\n",
    "    batch_size=BATCH_SIZE,\n",
    "    class_mode=\"binary\",\n",
    "    shuffle=False\n",
    ")\n",
    "\n",
    "test_gen = common_eval_datagen.flow_from_directory(\n",
    "    directory=os.path.join(BASE_DIR, \"test\"),\n",
    "    target_size=IMG_SIZE,\n",
    "    batch_size=BATCH_SIZE,\n",
    "    class_mode=\"binary\",\n",
    "    shuffle=False\n",
    ")"
   ]
  },
  {
   "cell_type": "markdown",
   "id": "0210a973",
   "metadata": {},
   "source": [
    "# Build model"
   ]
  },
  {
   "cell_type": "code",
   "execution_count": null,
   "id": "5c941491",
   "metadata": {},
   "outputs": [],
   "source": [
    "def build_model():\n",
    "    inputs = keras.Input(shape=(224, 224, 3))\n",
    "\n",
    "    # Block 1\n",
    "    x = layers.Conv2D(64, 3, padding=\"same\", activation=\"relu\")(inputs)\n",
    "    x = layers.Conv2D(64, 3, padding=\"same\", activation=\"relu\")(x)\n",
    "    x = layers.MaxPool2D(pool_size=2, strides=2)(x)\n",
    "\n",
    "    # Block 2\n",
    "    x = layers.Conv2D(128, 3, padding=\"same\", activation=\"relu\")(x)\n",
    "    x = layers.Conv2D(128, 3, padding=\"same\", activation=\"relu\")(x)\n",
    "    x = layers.MaxPool2D(2)(x)\n",
    "\n",
    "    # Block 3\n",
    "    x = layers.Conv2D(256, 3, padding=\"same\", activation=\"relu\")(x)\n",
    "    x = layers.Conv2D(256, 3, padding=\"same\", activation=\"relu\")(x)\n",
    "    x = layers.Conv2D(256, 3, padding=\"same\", activation=\"relu\")(x)\n",
    "    x = layers.MaxPool2D(2)(x)\n",
    "\n",
    "    # Block 4\n",
    "    x = layers.Conv2D(512, 3, padding=\"same\", activation=\"relu\")(x)\n",
    "    x = layers.Conv2D(512, 3, padding=\"same\", activation=\"relu\")(x)\n",
    "    x = layers.Conv2D(512, 3, padding=\"same\", activation=\"relu\")(x)\n",
    "    x = layers.MaxPool2D(2)(x)\n",
    "\n",
    "    # Block 5\n",
    "    x = layers.Conv2D(512, 3, padding=\"same\", activation=\"relu\")(x)\n",
    "    x = layers.Conv2D(512, 3, padding=\"same\", activation=\"relu\")(x)\n",
    "    x = layers.Conv2D(512, 3, padding=\"same\", activation=\"relu\")(x)\n",
    "    x = layers.MaxPool2D(2)(x)\n",
    "\n",
    "    # Top\n",
    "    x = layers.Flatten()(x)\n",
    "    x = layers.Dense(4096, activation=\"relu\")(x)\n",
    "    x = layers.Dropout(0.5)(x)\n",
    "    x = layers.Dense(4096, activation=\"relu\")(x)\n",
    "    x = layers.Dropout(0.5)(x)\n",
    "\n",
    "    outputs = layers.Dense(1, activation=\"sigmoid\")(x)\n",
    "    \n",
    "    model = keras.Model(inputs, outputs)\n",
    "    model.compile(\n",
    "        optimizer=keras.optimizers.AdamW(learning_rate = 1e-3, weight_decay = 1e-4),\n",
    "        loss=keras.losses.BinaryCrossentropy,\n",
    "        metrics=['accuracy']\n",
    "    )\n",
    "    return model\n",
    "\n",
    "model = build_model()\n",
    "model.summary()"
   ]
  },
  {
   "cell_type": "markdown",
   "id": "fde447b2",
   "metadata": {},
   "source": [
    "# Train model"
   ]
  },
  {
   "cell_type": "code",
   "execution_count": null,
   "id": "4cf02061",
   "metadata": {},
   "outputs": [],
   "source": [
    "callbacks = [\n",
    "    keras.callbacks.EarlyStopping(patience=6, restore_best_weights=True, monitor='val_loss'),\n",
    "    keras.callbacks.ReduceLROnPlateau(factor=0.5, patience=3, min_lr=1e-5)\n",
    "]\n",
    "\n",
    "history = model.fit(\n",
    "    train_gen,\n",
    "    epochs=50,\n",
    "    steps_per_epoch=BATCH_SIZE,\n",
    "    validation_data=val_gen,\n",
    "    validation_steps=BATCH_SIZE,\n",
    "    callbacks=callbacks,\n",
    "    verbose=1\n",
    ")"
   ]
  },
  {
   "cell_type": "markdown",
   "id": "4a540ec5",
   "metadata": {},
   "source": [
    "# Evaluate"
   ]
  },
  {
   "cell_type": "markdown",
   "id": "785499e5",
   "metadata": {},
   "source": [
    "test_loss, test_acc = model.evaluate(test_gen, steps=BATCH_SIZE, verbose=0)\n",
    "print(f\"Test loss: {test_loss:.4f} | acc: {test_acc:.4f}\")"
   ]
  }
 ],
 "metadata": {
  "kernelspec": {
   "display_name": "Python 3",
   "language": "python",
   "name": "python3"
  },
  "language_info": {
   "codemirror_mode": {
    "name": "ipython",
    "version": 3
   },
   "file_extension": ".py",
   "mimetype": "text/x-python",
   "name": "python",
   "nbconvert_exporter": "python",
   "pygments_lexer": "ipython3",
   "version": "3.12.1"
  }
 },
 "nbformat": 4,
 "nbformat_minor": 5
}
