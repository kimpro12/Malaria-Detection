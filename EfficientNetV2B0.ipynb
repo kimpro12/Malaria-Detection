{
 "cells": [
  {
   "cell_type": "markdown",
   "id": "48efc834",
   "metadata": {},
   "source": [
    "# Import libaries"
   ]
  },
  {
   "cell_type": "code",
   "execution_count": 1,
   "id": "50eb8847",
   "metadata": {},
   "outputs": [
    {
     "name": "stderr",
     "output_type": "stream",
     "text": [
      "2025-08-21 15:28:23.435891: I tensorflow/core/platform/cpu_feature_guard.cc:210] This TensorFlow binary is optimized to use available CPU instructions in performance-critical operations.\n",
      "To enable the following instructions: AVX2 FMA, in other operations, rebuild TensorFlow with the appropriate compiler flags.\n"
     ]
    }
   ],
   "source": [
    "import os\n",
    "import numpy as np\n",
    "import matplotlib.pyplot as plt\n",
    "import seaborn as sns\n",
    "from sklearn.metrics import confusion_matrix, classification_report\n",
    "import tensorflow as tf\n",
    "from tensorflow import keras\n",
    "from tensorflow.keras import layers, models\n",
    "from tensorflow.keras.applications.efficientnet_v2 import EfficientNetV2B0, preprocess_input as ef_pre\n",
    "from tensorflow.keras import mixed_precision\n",
    "mixed_precision.set_global_policy('mixed_float16')"
   ]
  },
  {
   "cell_type": "markdown",
   "id": "eab0192a",
   "metadata": {},
   "source": [
    "# Load dataset and augmentation"
   ]
  },
  {
   "cell_type": "code",
   "execution_count": 2,
   "id": "b9bebe6a",
   "metadata": {},
   "outputs": [
    {
     "name": "stdout",
     "output_type": "stream",
     "text": [
      "Found 22046 files belonging to 2 classes.\n"
     ]
    },
    {
     "name": "stderr",
     "output_type": "stream",
     "text": [
      "WARNING: All log messages before absl::InitializeLog() is called are written to STDERR\n",
      "I0000 00:00:1755790108.265944   83152 gpu_device.cc:2020] Created device /job:localhost/replica:0/task:0/device:GPU:0 with 22162 MB memory:  -> device: 0, name: NVIDIA GeForce RTX 4090, pci bus id: 0000:61:00.0, compute capability: 8.9\n"
     ]
    },
    {
     "name": "stdout",
     "output_type": "stream",
     "text": [
      "Found 2756 files belonging to 2 classes.\n",
      "Found 2756 files belonging to 2 classes.\n"
     ]
    }
   ],
   "source": [
    "BASE_DIR   = \"Malaria-Detection/Dataset\"   # Dataset/{train,val,test}/{Parasitized,Uninfected}\n",
    "IMG_SIZE   = (224, 224)\n",
    "BATCH_SIZE = 64\n",
    "SEED       = 42\n",
    "AUTOTUNE   = tf.data.AUTOTUNE\n",
    "PREPROC = ef_pre\n",
    "\n",
    "# ====== Dataset loaders ======\n",
    "train_gen = tf.keras.utils.image_dataset_from_directory(\n",
    "    directory = f\"{BASE_DIR}/train\",\n",
    "    labels=\"inferred\",\n",
    "    label_mode=\"binary\",\n",
    "    image_size=IMG_SIZE,\n",
    "    batch_size=BATCH_SIZE,\n",
    "    shuffle=True,\n",
    "    seed=SEED\n",
    ")\n",
    "\n",
    "val_gen = tf.keras.utils.image_dataset_from_directory(\n",
    "    directory = f\"{BASE_DIR}/val\",\n",
    "    labels=\"inferred\",\n",
    "    label_mode=\"binary\",\n",
    "    image_size=IMG_SIZE,\n",
    "    batch_size=BATCH_SIZE,\n",
    "    shuffle=False\n",
    ")\n",
    "\n",
    "test_gen = tf.keras.utils.image_dataset_from_directory(\n",
    "    directory = f\"{BASE_DIR}/test\",\n",
    "    labels=\"inferred\",\n",
    "    label_mode=\"binary\",\n",
    "    image_size=IMG_SIZE,\n",
    "    batch_size=BATCH_SIZE,\n",
    "    shuffle=False\n",
    ")\n",
    "\n",
    "# ====== Preprocessing pipeline ======\n",
    "# augment chỉ áp dụng cho train\n",
    "data_augmentation = tf.keras.Sequential([\n",
    "    tf.keras.layers.RandomFlip(\"horizontal_and_vertical\"),\n",
    "    tf.keras.layers.RandomRotation(0.1),\n",
    "    tf.keras.layers.RandomZoom(0.1),\n",
    "    tf.keras.layers.RandomTranslation(0.1, 0.1),\n",
    "])\n",
    "\n",
    "# map pipeline: augment (chỉ train) + preprocess_input\n",
    "train_gen = (\n",
    "    train_gen\n",
    "    .map(lambda x, y: (data_augmentation(x, training=True), y), num_parallel_calls=AUTOTUNE)\n",
    "    .map(lambda x, y: (PREPROC(x), y), num_parallel_calls=AUTOTUNE)\n",
    "    .prefetch(AUTOTUNE)\n",
    ")\n",
    "\n",
    "val_gen = val_gen.map(lambda x, y: (PREPROC(x), y), num_parallel_calls=AUTOTUNE).cache().prefetch(AUTOTUNE)\n",
    "test_gen = test_gen.map(lambda x, y: (PREPROC(x), y), num_parallel_calls=AUTOTUNE).cache().prefetch(AUTOTUNE)"
   ]
  },
  {
   "cell_type": "markdown",
   "id": "0210a973",
   "metadata": {},
   "source": [
    "# Build model"
   ]
  },
  {
   "cell_type": "code",
   "execution_count": 3,
   "id": "5c941491",
   "metadata": {},
   "outputs": [
    {
     "name": "stdout",
     "output_type": "stream",
     "text": [
      "Downloading data from https://storage.googleapis.com/tensorflow/keras-applications/efficientnet_v2/efficientnetv2-b0_notop.h5\n",
      "\u001b[1m24274472/24274472\u001b[0m \u001b[32m━━━━━━━━━━━━━━━━━━━━\u001b[0m\u001b[37m\u001b[0m \u001b[1m1s\u001b[0m 0us/step\n"
     ]
    }
   ],
   "source": [
    "base = EfficientNetV2B0(weights=\"imagenet\", include_top=False, input_shape=IMG_SIZE+(3,))\n",
    "base.trainable = False  # warm-up\n",
    "\n",
    "inputs = layers.Input(shape=IMG_SIZE+(3,))\n",
    "x = base(inputs, training=False)\n",
    "x = layers.GlobalAveragePooling2D()(x)\n",
    "x = layers.Dropout(0.3)(x)\n",
    "outputs = layers.Dense(1, activation=\"sigmoid\", dtype=\"float32\")(x)\n",
    "model = models.Model(inputs, outputs)\n",
    "\n",
    "model.compile(\n",
    "    optimizer=keras.optimizers.AdamW(learning_rate=1e-3, weight_decay=5e-4),\n",
    "    loss=keras.losses.BinaryCrossentropy(label_smoothing=0.05),\n",
    "    metrics=[keras.metrics.BinaryAccuracy(name=\"acc\"), keras.metrics.AUC(name=\"auc\")]\n",
    ")"
   ]
  },
  {
   "cell_type": "markdown",
   "id": "fde447b2",
   "metadata": {},
   "source": [
    "# Train model"
   ]
  },
  {
   "cell_type": "code",
   "execution_count": 4,
   "id": "4cf02061",
   "metadata": {},
   "outputs": [
    {
     "name": "stdout",
     "output_type": "stream",
     "text": [
      "Epoch 1/30\n"
     ]
    },
    {
     "name": "stderr",
     "output_type": "stream",
     "text": [
      "2025-08-21 15:28:51.356523: I external/local_xla/xla/service/service.cc:163] XLA service 0x7d25c0002ff0 initialized for platform CUDA (this does not guarantee that XLA will be used). Devices:\n",
      "2025-08-21 15:28:51.356584: I external/local_xla/xla/service/service.cc:171]   StreamExecutor device (0): NVIDIA GeForce RTX 4090, Compute Capability 8.9\n",
      "2025-08-21 15:28:51.760282: I tensorflow/compiler/mlir/tensorflow/utils/dump_mlir_util.cc:269] disabling MLIR crash reproducer, set env var `MLIR_CRASH_REPRODUCER_DIRECTORY` to enable.\n",
      "2025-08-21 15:29:08.933143: I external/local_xla/xla/stream_executor/cuda/cuda_dnn.cc:473] Loaded cuDNN version 91200\n",
      "I0000 00:00:1755790168.424653   84072 device_compiler.h:196] Compiled cluster using XLA!  This line is logged at most once for the lifetime of the process.\n"
     ]
    },
    {
     "name": "stdout",
     "output_type": "stream",
     "text": [
      "\u001b[1m345/345\u001b[0m \u001b[32m━━━━━━━━━━━━━━━━━━━━\u001b[0m\u001b[37m\u001b[0m \u001b[1m124s\u001b[0m 199ms/step - acc: 0.8748 - auc: 0.9474 - loss: 0.3622 - val_acc: 0.9278 - val_auc: 0.9768 - val_loss: 0.2759 - learning_rate: 0.0010\n",
      "Epoch 2/30\n",
      "\u001b[1m345/345\u001b[0m \u001b[32m━━━━━━━━━━━━━━━━━━━━\u001b[0m\u001b[37m\u001b[0m \u001b[1m32s\u001b[0m 87ms/step - acc: 0.9201 - auc: 0.9713 - loss: 0.2895 - val_acc: 0.9398 - val_auc: 0.9800 - val_loss: 0.2612 - learning_rate: 0.0010\n",
      "Epoch 3/30\n",
      "\u001b[1m345/345\u001b[0m \u001b[32m━━━━━━━━━━━━━━━━━━━━\u001b[0m\u001b[37m\u001b[0m \u001b[1m27s\u001b[0m 74ms/step - acc: 0.9245 - auc: 0.9746 - loss: 0.2792 - val_acc: 0.9423 - val_auc: 0.9810 - val_loss: 0.2597 - learning_rate: 0.0010\n",
      "Epoch 4/30\n",
      "\u001b[1m345/345\u001b[0m \u001b[32m━━━━━━━━━━━━━━━━━━━━\u001b[0m\u001b[37m\u001b[0m \u001b[1m26s\u001b[0m 71ms/step - acc: 0.9281 - auc: 0.9759 - loss: 0.2739 - val_acc: 0.9456 - val_auc: 0.9821 - val_loss: 0.2568 - learning_rate: 0.0010\n",
      "Epoch 5/30\n",
      "\u001b[1m345/345\u001b[0m \u001b[32m━━━━━━━━━━━━━━━━━━━━\u001b[0m\u001b[37m\u001b[0m \u001b[1m27s\u001b[0m 73ms/step - acc: 0.9304 - auc: 0.9766 - loss: 0.2711 - val_acc: 0.9409 - val_auc: 0.9823 - val_loss: 0.2492 - learning_rate: 0.0010\n",
      "Epoch 6/30\n",
      "\u001b[1m345/345\u001b[0m \u001b[32m━━━━━━━━━━━━━━━━━━━━\u001b[0m\u001b[37m\u001b[0m \u001b[1m27s\u001b[0m 74ms/step - acc: 0.9305 - auc: 0.9767 - loss: 0.2703 - val_acc: 0.9427 - val_auc: 0.9822 - val_loss: 0.2481 - learning_rate: 0.0010\n",
      "Epoch 7/30\n",
      "\u001b[1m345/345\u001b[0m \u001b[32m━━━━━━━━━━━━━━━━━━━━\u001b[0m\u001b[37m\u001b[0m \u001b[1m27s\u001b[0m 73ms/step - acc: 0.9311 - auc: 0.9765 - loss: 0.2704 - val_acc: 0.9423 - val_auc: 0.9826 - val_loss: 0.2486 - learning_rate: 0.0010\n",
      "Epoch 8/30\n",
      "\u001b[1m345/345\u001b[0m \u001b[32m━━━━━━━━━━━━━━━━━━━━\u001b[0m\u001b[37m\u001b[0m \u001b[1m28s\u001b[0m 76ms/step - acc: 0.9323 - auc: 0.9777 - loss: 0.2673 - val_acc: 0.9459 - val_auc: 0.9826 - val_loss: 0.2455 - learning_rate: 0.0010\n",
      "Epoch 9/30\n",
      "\u001b[1m345/345\u001b[0m \u001b[32m━━━━━━━━━━━━━━━━━━━━\u001b[0m\u001b[37m\u001b[0m \u001b[1m26s\u001b[0m 72ms/step - acc: 0.9319 - auc: 0.9767 - loss: 0.2696 - val_acc: 0.9427 - val_auc: 0.9832 - val_loss: 0.2441 - learning_rate: 0.0010\n",
      "Epoch 10/30\n",
      "\u001b[1m345/345\u001b[0m \u001b[32m━━━━━━━━━━━━━━━━━━━━\u001b[0m\u001b[37m\u001b[0m \u001b[1m27s\u001b[0m 74ms/step - acc: 0.9329 - auc: 0.9777 - loss: 0.2666 - val_acc: 0.9452 - val_auc: 0.9835 - val_loss: 0.2472 - learning_rate: 0.0010\n",
      "Epoch 11/30\n",
      "\u001b[1m345/345\u001b[0m \u001b[32m━━━━━━━━━━━━━━━━━━━━\u001b[0m\u001b[37m\u001b[0m \u001b[1m27s\u001b[0m 73ms/step - acc: 0.9327 - auc: 0.9771 - loss: 0.2683 - val_acc: 0.9434 - val_auc: 0.9831 - val_loss: 0.2431 - learning_rate: 0.0010\n",
      "Epoch 12/30\n",
      "\u001b[1m345/345\u001b[0m \u001b[32m━━━━━━━━━━━━━━━━━━━━\u001b[0m\u001b[37m\u001b[0m \u001b[1m27s\u001b[0m 74ms/step - acc: 0.9330 - auc: 0.9772 - loss: 0.2682 - val_acc: 0.9452 - val_auc: 0.9836 - val_loss: 0.2437 - learning_rate: 0.0010\n",
      "Epoch 13/30\n",
      "\u001b[1m345/345\u001b[0m \u001b[32m━━━━━━━━━━━━━━━━━━━━\u001b[0m\u001b[37m\u001b[0m \u001b[1m27s\u001b[0m 74ms/step - acc: 0.9326 - auc: 0.9776 - loss: 0.2674 - val_acc: 0.9448 - val_auc: 0.9835 - val_loss: 0.2455 - learning_rate: 0.0010\n",
      "Epoch 14/30\n",
      "\u001b[1m345/345\u001b[0m \u001b[32m━━━━━━━━━━━━━━━━━━━━\u001b[0m\u001b[37m\u001b[0m \u001b[1m27s\u001b[0m 72ms/step - acc: 0.9329 - auc: 0.9781 - loss: 0.2657 - val_acc: 0.9438 - val_auc: 0.9836 - val_loss: 0.2426 - learning_rate: 0.0010\n",
      "Epoch 15/30\n",
      "\u001b[1m345/345\u001b[0m \u001b[32m━━━━━━━━━━━━━━━━━━━━\u001b[0m\u001b[37m\u001b[0m \u001b[1m26s\u001b[0m 72ms/step - acc: 0.9310 - auc: 0.9774 - loss: 0.2672 - val_acc: 0.9459 - val_auc: 0.9838 - val_loss: 0.2444 - learning_rate: 0.0010\n",
      "Epoch 16/30\n",
      "\u001b[1m345/345\u001b[0m \u001b[32m━━━━━━━━━━━━━━━━━━━━\u001b[0m\u001b[37m\u001b[0m \u001b[1m27s\u001b[0m 75ms/step - acc: 0.9330 - auc: 0.9777 - loss: 0.2668 - val_acc: 0.9467 - val_auc: 0.9839 - val_loss: 0.2449 - learning_rate: 0.0010\n",
      "Epoch 17/30\n",
      "\u001b[1m345/345\u001b[0m \u001b[32m━━━━━━━━━━━━━━━━━━━━\u001b[0m\u001b[37m\u001b[0m \u001b[1m27s\u001b[0m 74ms/step - acc: 0.9323 - auc: 0.9776 - loss: 0.2664 - val_acc: 0.9448 - val_auc: 0.9839 - val_loss: 0.2423 - learning_rate: 0.0010\n",
      "Epoch 18/30\n",
      "\u001b[1m345/345\u001b[0m \u001b[32m━━━━━━━━━━━━━━━━━━━━\u001b[0m\u001b[37m\u001b[0m \u001b[1m27s\u001b[0m 73ms/step - acc: 0.9346 - auc: 0.9781 - loss: 0.2655 - val_acc: 0.9456 - val_auc: 0.9838 - val_loss: 0.2414 - learning_rate: 0.0010\n",
      "Epoch 19/30\n",
      "\u001b[1m345/345\u001b[0m \u001b[32m━━━━━━━━━━━━━━━━━━━━\u001b[0m\u001b[37m\u001b[0m \u001b[1m27s\u001b[0m 73ms/step - acc: 0.9334 - auc: 0.9773 - loss: 0.2676 - val_acc: 0.9441 - val_auc: 0.9835 - val_loss: 0.2429 - learning_rate: 0.0010\n",
      "Epoch 20/30\n",
      "\u001b[1m345/345\u001b[0m \u001b[32m━━━━━━━━━━━━━━━━━━━━\u001b[0m\u001b[37m\u001b[0m \u001b[1m26s\u001b[0m 72ms/step - acc: 0.9333 - auc: 0.9777 - loss: 0.2660 - val_acc: 0.9474 - val_auc: 0.9841 - val_loss: 0.2456 - learning_rate: 0.0010\n",
      "Epoch 21/30\n",
      "\u001b[1m345/345\u001b[0m \u001b[32m━━━━━━━━━━━━━━━━━━━━\u001b[0m\u001b[37m\u001b[0m \u001b[1m27s\u001b[0m 74ms/step - acc: 0.9326 - auc: 0.9782 - loss: 0.2653 - val_acc: 0.9459 - val_auc: 0.9840 - val_loss: 0.2471 - learning_rate: 0.0010\n",
      "Epoch 22/30\n",
      "\u001b[1m345/345\u001b[0m \u001b[32m━━━━━━━━━━━━━━━━━━━━\u001b[0m\u001b[37m\u001b[0m \u001b[1m26s\u001b[0m 71ms/step - acc: 0.9341 - auc: 0.9785 - loss: 0.2636 - val_acc: 0.9452 - val_auc: 0.9842 - val_loss: 0.2407 - learning_rate: 5.0000e-04\n",
      "Epoch 23/30\n",
      "\u001b[1m345/345\u001b[0m \u001b[32m━━━━━━━━━━━━━━━━━━━━\u001b[0m\u001b[37m\u001b[0m \u001b[1m27s\u001b[0m 73ms/step - acc: 0.9340 - auc: 0.9783 - loss: 0.2648 - val_acc: 0.9441 - val_auc: 0.9843 - val_loss: 0.2399 - learning_rate: 5.0000e-04\n",
      "Epoch 24/30\n",
      "\u001b[1m345/345\u001b[0m \u001b[32m━━━━━━━━━━━━━━━━━━━━\u001b[0m\u001b[37m\u001b[0m \u001b[1m28s\u001b[0m 76ms/step - acc: 0.9338 - auc: 0.9779 - loss: 0.2656 - val_acc: 0.9438 - val_auc: 0.9842 - val_loss: 0.2397 - learning_rate: 5.0000e-04\n",
      "Epoch 25/30\n",
      "\u001b[1m345/345\u001b[0m \u001b[32m━━━━━━━━━━━━━━━━━━━━\u001b[0m\u001b[37m\u001b[0m \u001b[1m28s\u001b[0m 76ms/step - acc: 0.9345 - auc: 0.9784 - loss: 0.2636 - val_acc: 0.9456 - val_auc: 0.9841 - val_loss: 0.2413 - learning_rate: 5.0000e-04\n",
      "Epoch 26/30\n",
      "\u001b[1m345/345\u001b[0m \u001b[32m━━━━━━━━━━━━━━━━━━━━\u001b[0m\u001b[37m\u001b[0m \u001b[1m27s\u001b[0m 72ms/step - acc: 0.9347 - auc: 0.9785 - loss: 0.2638 - val_acc: 0.9474 - val_auc: 0.9842 - val_loss: 0.2427 - learning_rate: 5.0000e-04\n",
      "Epoch 27/30\n",
      "\u001b[1m345/345\u001b[0m \u001b[32m━━━━━━━━━━━━━━━━━━━━\u001b[0m\u001b[37m\u001b[0m \u001b[1m27s\u001b[0m 73ms/step - acc: 0.9321 - auc: 0.9776 - loss: 0.2663 - val_acc: 0.9467 - val_auc: 0.9842 - val_loss: 0.2425 - learning_rate: 5.0000e-04\n",
      "Epoch 28/30\n",
      "\u001b[1m345/345\u001b[0m \u001b[32m━━━━━━━━━━━━━━━━━━━━\u001b[0m\u001b[37m\u001b[0m \u001b[1m26s\u001b[0m 71ms/step - acc: 0.9344 - auc: 0.9786 - loss: 0.2639 - val_acc: 0.9448 - val_auc: 0.9843 - val_loss: 0.2399 - learning_rate: 2.5000e-04\n",
      "Epoch 29/30\n",
      "\u001b[1m345/345\u001b[0m \u001b[32m━━━━━━━━━━━━━━━━━━━━\u001b[0m\u001b[37m\u001b[0m \u001b[1m26s\u001b[0m 71ms/step - acc: 0.9340 - auc: 0.9779 - loss: 0.2652 - val_acc: 0.9452 - val_auc: 0.9843 - val_loss: 0.2406 - learning_rate: 2.5000e-04\n",
      "Epoch 30/30\n",
      "\u001b[1m345/345\u001b[0m \u001b[32m━━━━━━━━━━━━━━━━━━━━\u001b[0m\u001b[37m\u001b[0m \u001b[1m26s\u001b[0m 72ms/step - acc: 0.9352 - auc: 0.9786 - loss: 0.2636 - val_acc: 0.9445 - val_auc: 0.9844 - val_loss: 0.2403 - learning_rate: 2.5000e-04\n"
     ]
    }
   ],
   "source": [
    "callbacks = [\n",
    "    keras.callbacks.EarlyStopping(patience=6, restore_best_weights=True, monitor='val_loss'),\n",
    "    keras.callbacks.ReduceLROnPlateau(factor=0.5, patience=3, min_lr=1e-7),\n",
    "]\n",
    "\n",
    "# Warm-up\n",
    "history = model.fit(\n",
    "    train_gen,\n",
    "    epochs=30,\n",
    "    validation_data=val_gen,\n",
    "    callbacks=callbacks,\n",
    "    verbose=1\n",
    ")"
   ]
  },
  {
   "cell_type": "code",
   "execution_count": 5,
   "id": "0f458d8d-67f9-4d09-93dd-7d173b4630d4",
   "metadata": {},
   "outputs": [
    {
     "name": "stdout",
     "output_type": "stream",
     "text": [
      "Epoch 1/150\n",
      "\u001b[1m345/345\u001b[0m \u001b[32m━━━━━━━━━━━━━━━━━━━━\u001b[0m\u001b[37m\u001b[0m \u001b[1m137s\u001b[0m 204ms/step - acc: 0.9280 - auc: 0.9726 - loss: 0.2848 - val_acc: 0.9470 - val_auc: 0.9838 - val_loss: 0.2451 - learning_rate: 1.0000e-05\n",
      "Epoch 2/150\n",
      "\u001b[1m345/345\u001b[0m \u001b[32m━━━━━━━━━━━━━━━━━━━━\u001b[0m\u001b[37m\u001b[0m \u001b[1m28s\u001b[0m 77ms/step - acc: 0.9345 - auc: 0.9774 - loss: 0.2694 - val_acc: 0.9485 - val_auc: 0.9853 - val_loss: 0.2382 - learning_rate: 1.0000e-05\n",
      "Epoch 3/150\n",
      "\u001b[1m345/345\u001b[0m \u001b[32m━━━━━━━━━━━━━━━━━━━━\u001b[0m\u001b[37m\u001b[0m \u001b[1m28s\u001b[0m 76ms/step - acc: 0.9369 - auc: 0.9777 - loss: 0.2652 - val_acc: 0.9517 - val_auc: 0.9862 - val_loss: 0.2327 - learning_rate: 1.0000e-05\n",
      "Epoch 4/150\n",
      "\u001b[1m345/345\u001b[0m \u001b[32m━━━━━━━━━━━━━━━━━━━━\u001b[0m\u001b[37m\u001b[0m \u001b[1m29s\u001b[0m 79ms/step - acc: 0.9400 - auc: 0.9798 - loss: 0.2567 - val_acc: 0.9517 - val_auc: 0.9868 - val_loss: 0.2298 - learning_rate: 1.0000e-05\n",
      "Epoch 5/150\n",
      "\u001b[1m345/345\u001b[0m \u001b[32m━━━━━━━━━━━━━━━━━━━━\u001b[0m\u001b[37m\u001b[0m \u001b[1m28s\u001b[0m 76ms/step - acc: 0.9405 - auc: 0.9808 - loss: 0.2536 - val_acc: 0.9507 - val_auc: 0.9873 - val_loss: 0.2261 - learning_rate: 1.0000e-05\n",
      "Epoch 6/150\n",
      "\u001b[1m345/345\u001b[0m \u001b[32m━━━━━━━━━━━━━━━━━━━━\u001b[0m\u001b[37m\u001b[0m \u001b[1m29s\u001b[0m 78ms/step - acc: 0.9433 - auc: 0.9828 - loss: 0.2467 - val_acc: 0.9517 - val_auc: 0.9879 - val_loss: 0.2240 - learning_rate: 1.0000e-05\n",
      "Epoch 7/150\n",
      "\u001b[1m345/345\u001b[0m \u001b[32m━━━━━━━━━━━━━━━━━━━━\u001b[0m\u001b[37m\u001b[0m \u001b[1m28s\u001b[0m 77ms/step - acc: 0.9428 - auc: 0.9828 - loss: 0.2467 - val_acc: 0.9528 - val_auc: 0.9885 - val_loss: 0.2218 - learning_rate: 1.0000e-05\n",
      "Epoch 8/150\n",
      "\u001b[1m345/345\u001b[0m \u001b[32m━━━━━━━━━━━━━━━━━━━━\u001b[0m\u001b[37m\u001b[0m \u001b[1m28s\u001b[0m 76ms/step - acc: 0.9457 - auc: 0.9829 - loss: 0.2439 - val_acc: 0.9525 - val_auc: 0.9889 - val_loss: 0.2199 - learning_rate: 1.0000e-05\n",
      "Epoch 9/150\n",
      "\u001b[1m345/345\u001b[0m \u001b[32m━━━━━━━━━━━━━━━━━━━━\u001b[0m\u001b[37m\u001b[0m \u001b[1m28s\u001b[0m 76ms/step - acc: 0.9463 - auc: 0.9842 - loss: 0.2395 - val_acc: 0.9517 - val_auc: 0.9892 - val_loss: 0.2187 - learning_rate: 1.0000e-05\n",
      "Epoch 10/150\n",
      "\u001b[1m345/345\u001b[0m \u001b[32m━━━━━━━━━━━━━━━━━━━━\u001b[0m\u001b[37m\u001b[0m \u001b[1m28s\u001b[0m 77ms/step - acc: 0.9475 - auc: 0.9843 - loss: 0.2394 - val_acc: 0.9532 - val_auc: 0.9894 - val_loss: 0.2173 - learning_rate: 1.0000e-05\n",
      "Epoch 11/150\n",
      "\u001b[1m345/345\u001b[0m \u001b[32m━━━━━━━━━━━━━━━━━━━━\u001b[0m\u001b[37m\u001b[0m \u001b[1m29s\u001b[0m 80ms/step - acc: 0.9474 - auc: 0.9852 - loss: 0.2361 - val_acc: 0.9514 - val_auc: 0.9897 - val_loss: 0.2170 - learning_rate: 1.0000e-05\n",
      "Epoch 12/150\n",
      "\u001b[1m345/345\u001b[0m \u001b[32m━━━━━━━━━━━━━━━━━━━━\u001b[0m\u001b[37m\u001b[0m \u001b[1m29s\u001b[0m 78ms/step - acc: 0.9487 - auc: 0.9855 - loss: 0.2352 - val_acc: 0.9525 - val_auc: 0.9900 - val_loss: 0.2157 - learning_rate: 1.0000e-05\n",
      "Epoch 13/150\n",
      "\u001b[1m345/345\u001b[0m \u001b[32m━━━━━━━━━━━━━━━━━━━━\u001b[0m\u001b[37m\u001b[0m \u001b[1m28s\u001b[0m 77ms/step - acc: 0.9495 - auc: 0.9851 - loss: 0.2347 - val_acc: 0.9536 - val_auc: 0.9902 - val_loss: 0.2137 - learning_rate: 1.0000e-05\n",
      "Epoch 14/150\n",
      "\u001b[1m345/345\u001b[0m \u001b[32m━━━━━━━━━━━━━━━━━━━━\u001b[0m\u001b[37m\u001b[0m \u001b[1m28s\u001b[0m 77ms/step - acc: 0.9487 - auc: 0.9852 - loss: 0.2347 - val_acc: 0.9532 - val_auc: 0.9905 - val_loss: 0.2127 - learning_rate: 1.0000e-05\n",
      "Epoch 15/150\n",
      "\u001b[1m345/345\u001b[0m \u001b[32m━━━━━━━━━━━━━━━━━━━━\u001b[0m\u001b[37m\u001b[0m \u001b[1m29s\u001b[0m 78ms/step - acc: 0.9497 - auc: 0.9854 - loss: 0.2332 - val_acc: 0.9532 - val_auc: 0.9907 - val_loss: 0.2120 - learning_rate: 1.0000e-05\n",
      "Epoch 16/150\n",
      "\u001b[1m345/345\u001b[0m \u001b[32m━━━━━━━━━━━━━━━━━━━━\u001b[0m\u001b[37m\u001b[0m \u001b[1m29s\u001b[0m 78ms/step - acc: 0.9505 - auc: 0.9868 - loss: 0.2283 - val_acc: 0.9525 - val_auc: 0.9908 - val_loss: 0.2115 - learning_rate: 1.0000e-05\n",
      "Epoch 17/150\n",
      "\u001b[1m345/345\u001b[0m \u001b[32m━━━━━━━━━━━━━━━━━━━━\u001b[0m\u001b[37m\u001b[0m \u001b[1m28s\u001b[0m 76ms/step - acc: 0.9508 - auc: 0.9861 - loss: 0.2298 - val_acc: 0.9532 - val_auc: 0.9910 - val_loss: 0.2106 - learning_rate: 1.0000e-05\n",
      "Epoch 18/150\n",
      "\u001b[1m345/345\u001b[0m \u001b[32m━━━━━━━━━━━━━━━━━━━━\u001b[0m\u001b[37m\u001b[0m \u001b[1m29s\u001b[0m 79ms/step - acc: 0.9526 - auc: 0.9867 - loss: 0.2268 - val_acc: 0.9536 - val_auc: 0.9912 - val_loss: 0.2104 - learning_rate: 1.0000e-05\n",
      "Epoch 19/150\n",
      "\u001b[1m345/345\u001b[0m \u001b[32m━━━━━━━━━━━━━━━━━━━━\u001b[0m\u001b[37m\u001b[0m \u001b[1m28s\u001b[0m 78ms/step - acc: 0.9529 - auc: 0.9864 - loss: 0.2277 - val_acc: 0.9539 - val_auc: 0.9913 - val_loss: 0.2101 - learning_rate: 1.0000e-05\n",
      "Epoch 20/150\n",
      "\u001b[1m345/345\u001b[0m \u001b[32m━━━━━━━━━━━━━━━━━━━━\u001b[0m\u001b[37m\u001b[0m \u001b[1m30s\u001b[0m 82ms/step - acc: 0.9528 - auc: 0.9870 - loss: 0.2270 - val_acc: 0.9546 - val_auc: 0.9914 - val_loss: 0.2098 - learning_rate: 1.0000e-05\n",
      "Epoch 21/150\n",
      "\u001b[1m345/345\u001b[0m \u001b[32m━━━━━━━━━━━━━━━━━━━━\u001b[0m\u001b[37m\u001b[0m \u001b[1m28s\u001b[0m 77ms/step - acc: 0.9528 - auc: 0.9872 - loss: 0.2250 - val_acc: 0.9550 - val_auc: 0.9915 - val_loss: 0.2097 - learning_rate: 1.0000e-05\n",
      "Epoch 22/150\n",
      "\u001b[1m345/345\u001b[0m \u001b[32m━━━━━━━━━━━━━━━━━━━━\u001b[0m\u001b[37m\u001b[0m \u001b[1m29s\u001b[0m 79ms/step - acc: 0.9526 - auc: 0.9878 - loss: 0.2230 - val_acc: 0.9557 - val_auc: 0.9917 - val_loss: 0.2079 - learning_rate: 1.0000e-05\n",
      "Epoch 23/150\n",
      "\u001b[1m345/345\u001b[0m \u001b[32m━━━━━━━━━━━━━━━━━━━━\u001b[0m\u001b[37m\u001b[0m \u001b[1m29s\u001b[0m 79ms/step - acc: 0.9541 - auc: 0.9875 - loss: 0.2231 - val_acc: 0.9561 - val_auc: 0.9917 - val_loss: 0.2077 - learning_rate: 1.0000e-05\n",
      "Epoch 24/150\n",
      "\u001b[1m345/345\u001b[0m \u001b[32m━━━━━━━━━━━━━━━━━━━━\u001b[0m\u001b[37m\u001b[0m \u001b[1m29s\u001b[0m 79ms/step - acc: 0.9536 - auc: 0.9873 - loss: 0.2232 - val_acc: 0.9561 - val_auc: 0.9918 - val_loss: 0.2077 - learning_rate: 1.0000e-05\n",
      "Epoch 25/150\n",
      "\u001b[1m345/345\u001b[0m \u001b[32m━━━━━━━━━━━━━━━━━━━━\u001b[0m\u001b[37m\u001b[0m \u001b[1m28s\u001b[0m 77ms/step - acc: 0.9542 - auc: 0.9873 - loss: 0.2234 - val_acc: 0.9579 - val_auc: 0.9919 - val_loss: 0.2077 - learning_rate: 1.0000e-05\n",
      "Epoch 26/150\n",
      "\u001b[1m345/345\u001b[0m \u001b[32m━━━━━━━━━━━━━━━━━━━━\u001b[0m\u001b[37m\u001b[0m \u001b[1m29s\u001b[0m 78ms/step - acc: 0.9553 - auc: 0.9883 - loss: 0.2201 - val_acc: 0.9579 - val_auc: 0.9920 - val_loss: 0.2070 - learning_rate: 1.0000e-05\n",
      "Epoch 27/150\n",
      "\u001b[1m345/345\u001b[0m \u001b[32m━━━━━━━━━━━━━━━━━━━━\u001b[0m\u001b[37m\u001b[0m \u001b[1m28s\u001b[0m 78ms/step - acc: 0.9556 - auc: 0.9888 - loss: 0.2175 - val_acc: 0.9575 - val_auc: 0.9921 - val_loss: 0.2061 - learning_rate: 1.0000e-05\n",
      "Epoch 28/150\n",
      "\u001b[1m345/345\u001b[0m \u001b[32m━━━━━━━━━━━━━━━━━━━━\u001b[0m\u001b[37m\u001b[0m \u001b[1m30s\u001b[0m 81ms/step - acc: 0.9536 - auc: 0.9880 - loss: 0.2191 - val_acc: 0.9579 - val_auc: 0.9923 - val_loss: 0.2054 - learning_rate: 1.0000e-05\n",
      "Epoch 29/150\n",
      "\u001b[1m345/345\u001b[0m \u001b[32m━━━━━━━━━━━━━━━━━━━━\u001b[0m\u001b[37m\u001b[0m \u001b[1m28s\u001b[0m 77ms/step - acc: 0.9563 - auc: 0.9890 - loss: 0.2170 - val_acc: 0.9579 - val_auc: 0.9923 - val_loss: 0.2054 - learning_rate: 1.0000e-05\n",
      "Epoch 30/150\n",
      "\u001b[1m345/345\u001b[0m \u001b[32m━━━━━━━━━━━━━━━━━━━━\u001b[0m\u001b[37m\u001b[0m \u001b[1m29s\u001b[0m 80ms/step - acc: 0.9558 - auc: 0.9886 - loss: 0.2177 - val_acc: 0.9594 - val_auc: 0.9923 - val_loss: 0.2049 - learning_rate: 1.0000e-05\n",
      "Epoch 31/150\n",
      "\u001b[1m345/345\u001b[0m \u001b[32m━━━━━━━━━━━━━━━━━━━━\u001b[0m\u001b[37m\u001b[0m \u001b[1m28s\u001b[0m 76ms/step - acc: 0.9546 - auc: 0.9888 - loss: 0.2172 - val_acc: 0.9586 - val_auc: 0.9924 - val_loss: 0.2057 - learning_rate: 1.0000e-05\n",
      "Epoch 32/150\n",
      "\u001b[1m345/345\u001b[0m \u001b[32m━━━━━━━━━━━━━━━━━━━━\u001b[0m\u001b[37m\u001b[0m \u001b[1m29s\u001b[0m 79ms/step - acc: 0.9562 - auc: 0.9892 - loss: 0.2156 - val_acc: 0.9601 - val_auc: 0.9926 - val_loss: 0.2042 - learning_rate: 1.0000e-05\n",
      "Epoch 33/150\n",
      "\u001b[1m345/345\u001b[0m \u001b[32m━━━━━━━━━━━━━━━━━━━━\u001b[0m\u001b[37m\u001b[0m \u001b[1m28s\u001b[0m 77ms/step - acc: 0.9573 - auc: 0.9897 - loss: 0.2134 - val_acc: 0.9597 - val_auc: 0.9926 - val_loss: 0.2044 - learning_rate: 1.0000e-05\n",
      "Epoch 34/150\n",
      "\u001b[1m345/345\u001b[0m \u001b[32m━━━━━━━━━━━━━━━━━━━━\u001b[0m\u001b[37m\u001b[0m \u001b[1m28s\u001b[0m 77ms/step - acc: 0.9562 - auc: 0.9891 - loss: 0.2154 - val_acc: 0.9597 - val_auc: 0.9927 - val_loss: 0.2039 - learning_rate: 1.0000e-05\n",
      "Epoch 35/150\n",
      "\u001b[1m345/345\u001b[0m \u001b[32m━━━━━━━━━━━━━━━━━━━━\u001b[0m\u001b[37m\u001b[0m \u001b[1m28s\u001b[0m 77ms/step - acc: 0.9577 - auc: 0.9892 - loss: 0.2141 - val_acc: 0.9586 - val_auc: 0.9924 - val_loss: 0.2047 - learning_rate: 1.0000e-05\n",
      "Epoch 36/150\n",
      "\u001b[1m345/345\u001b[0m \u001b[32m━━━━━━━━━━━━━━━━━━━━\u001b[0m\u001b[37m\u001b[0m \u001b[1m29s\u001b[0m 79ms/step - acc: 0.9582 - auc: 0.9899 - loss: 0.2115 - val_acc: 0.9597 - val_auc: 0.9927 - val_loss: 0.2046 - learning_rate: 1.0000e-05\n",
      "Epoch 37/150\n",
      "\u001b[1m345/345\u001b[0m \u001b[32m━━━━━━━━━━━━━━━━━━━━\u001b[0m\u001b[37m\u001b[0m \u001b[1m29s\u001b[0m 80ms/step - acc: 0.9573 - auc: 0.9897 - loss: 0.2125 - val_acc: 0.9601 - val_auc: 0.9929 - val_loss: 0.2036 - learning_rate: 1.0000e-05\n",
      "Epoch 38/150\n",
      "\u001b[1m345/345\u001b[0m \u001b[32m━━━━━━━━━━━━━━━━━━━━\u001b[0m\u001b[37m\u001b[0m \u001b[1m29s\u001b[0m 79ms/step - acc: 0.9570 - auc: 0.9896 - loss: 0.2127 - val_acc: 0.9586 - val_auc: 0.9929 - val_loss: 0.2038 - learning_rate: 1.0000e-05\n",
      "Epoch 39/150\n",
      "\u001b[1m345/345\u001b[0m \u001b[32m━━━━━━━━━━━━━━━━━━━━\u001b[0m\u001b[37m\u001b[0m \u001b[1m30s\u001b[0m 81ms/step - acc: 0.9577 - auc: 0.9893 - loss: 0.2133 - val_acc: 0.9594 - val_auc: 0.9929 - val_loss: 0.2026 - learning_rate: 1.0000e-05\n",
      "Epoch 40/150\n",
      "\u001b[1m345/345\u001b[0m \u001b[32m━━━━━━━━━━━━━━━━━━━━\u001b[0m\u001b[37m\u001b[0m \u001b[1m30s\u001b[0m 82ms/step - acc: 0.9590 - auc: 0.9901 - loss: 0.2105 - val_acc: 0.9604 - val_auc: 0.9931 - val_loss: 0.2014 - learning_rate: 1.0000e-05\n",
      "Epoch 41/150\n",
      "\u001b[1m345/345\u001b[0m \u001b[32m━━━━━━━━━━━━━━━━━━━━\u001b[0m\u001b[37m\u001b[0m \u001b[1m30s\u001b[0m 83ms/step - acc: 0.9575 - auc: 0.9899 - loss: 0.2113 - val_acc: 0.9608 - val_auc: 0.9932 - val_loss: 0.2015 - learning_rate: 1.0000e-05\n",
      "Epoch 42/150\n",
      "\u001b[1m345/345\u001b[0m \u001b[32m━━━━━━━━━━━━━━━━━━━━\u001b[0m\u001b[37m\u001b[0m \u001b[1m30s\u001b[0m 81ms/step - acc: 0.9594 - auc: 0.9908 - loss: 0.2080 - val_acc: 0.9597 - val_auc: 0.9931 - val_loss: 0.2024 - learning_rate: 1.0000e-05\n",
      "Epoch 43/150\n",
      "\u001b[1m345/345\u001b[0m \u001b[32m━━━━━━━━━━━━━━━━━━━━\u001b[0m\u001b[37m\u001b[0m \u001b[1m29s\u001b[0m 79ms/step - acc: 0.9590 - auc: 0.9904 - loss: 0.2095 - val_acc: 0.9608 - val_auc: 0.9932 - val_loss: 0.2016 - learning_rate: 1.0000e-05\n",
      "Epoch 44/150\n",
      "\u001b[1m345/345\u001b[0m \u001b[32m━━━━━━━━━━━━━━━━━━━━\u001b[0m\u001b[37m\u001b[0m \u001b[1m29s\u001b[0m 79ms/step - acc: 0.9592 - auc: 0.9901 - loss: 0.2094 - val_acc: 0.9615 - val_auc: 0.9933 - val_loss: 0.2007 - learning_rate: 5.0000e-06\n",
      "Epoch 45/150\n",
      "\u001b[1m345/345\u001b[0m \u001b[32m━━━━━━━━━━━━━━━━━━━━\u001b[0m\u001b[37m\u001b[0m \u001b[1m29s\u001b[0m 79ms/step - acc: 0.9586 - auc: 0.9902 - loss: 0.2094 - val_acc: 0.9612 - val_auc: 0.9934 - val_loss: 0.2000 - learning_rate: 5.0000e-06\n",
      "Epoch 46/150\n",
      "\u001b[1m345/345\u001b[0m \u001b[32m━━━━━━━━━━━━━━━━━━━━\u001b[0m\u001b[37m\u001b[0m \u001b[1m29s\u001b[0m 79ms/step - acc: 0.9595 - auc: 0.9903 - loss: 0.2082 - val_acc: 0.9615 - val_auc: 0.9934 - val_loss: 0.1994 - learning_rate: 5.0000e-06\n",
      "Epoch 47/150\n",
      "\u001b[1m345/345\u001b[0m \u001b[32m━━━━━━━━━━━━━━━━━━━━\u001b[0m\u001b[37m\u001b[0m \u001b[1m28s\u001b[0m 78ms/step - acc: 0.9599 - auc: 0.9900 - loss: 0.2088 - val_acc: 0.9615 - val_auc: 0.9933 - val_loss: 0.2005 - learning_rate: 5.0000e-06\n",
      "Epoch 48/150\n",
      "\u001b[1m345/345\u001b[0m \u001b[32m━━━━━━━━━━━━━━━━━━━━\u001b[0m\u001b[37m\u001b[0m \u001b[1m28s\u001b[0m 77ms/step - acc: 0.9597 - auc: 0.9910 - loss: 0.2068 - val_acc: 0.9619 - val_auc: 0.9933 - val_loss: 0.2003 - learning_rate: 5.0000e-06\n",
      "Epoch 49/150\n",
      "\u001b[1m345/345\u001b[0m \u001b[32m━━━━━━━━━━━━━━━━━━━━\u001b[0m\u001b[37m\u001b[0m \u001b[1m28s\u001b[0m 76ms/step - acc: 0.9594 - auc: 0.9903 - loss: 0.2086 - val_acc: 0.9615 - val_auc: 0.9933 - val_loss: 0.2004 - learning_rate: 5.0000e-06\n",
      "Epoch 50/150\n",
      "\u001b[1m345/345\u001b[0m \u001b[32m━━━━━━━━━━━━━━━━━━━━\u001b[0m\u001b[37m\u001b[0m \u001b[1m28s\u001b[0m 78ms/step - acc: 0.9597 - auc: 0.9907 - loss: 0.2070 - val_acc: 0.9615 - val_auc: 0.9933 - val_loss: 0.2012 - learning_rate: 2.5000e-06\n",
      "Epoch 51/150\n",
      "\u001b[1m345/345\u001b[0m \u001b[32m━━━━━━━━━━━━━━━━━━━━\u001b[0m\u001b[37m\u001b[0m \u001b[1m29s\u001b[0m 78ms/step - acc: 0.9589 - auc: 0.9904 - loss: 0.2087 - val_acc: 0.9604 - val_auc: 0.9933 - val_loss: 0.2001 - learning_rate: 2.5000e-06\n",
      "Epoch 52/150\n",
      "\u001b[1m345/345\u001b[0m \u001b[32m━━━━━━━━━━━━━━━━━━━━\u001b[0m\u001b[37m\u001b[0m \u001b[1m30s\u001b[0m 82ms/step - acc: 0.9604 - auc: 0.9904 - loss: 0.2079 - val_acc: 0.9612 - val_auc: 0.9934 - val_loss: 0.1992 - learning_rate: 2.5000e-06\n",
      "Epoch 53/150\n",
      "\u001b[1m345/345\u001b[0m \u001b[32m━━━━━━━━━━━━━━━━━━━━\u001b[0m\u001b[37m\u001b[0m \u001b[1m29s\u001b[0m 80ms/step - acc: 0.9617 - auc: 0.9906 - loss: 0.2067 - val_acc: 0.9601 - val_auc: 0.9935 - val_loss: 0.1991 - learning_rate: 2.5000e-06\n",
      "Epoch 54/150\n",
      "\u001b[1m345/345\u001b[0m \u001b[32m━━━━━━━━━━━━━━━━━━━━\u001b[0m\u001b[37m\u001b[0m \u001b[1m28s\u001b[0m 78ms/step - acc: 0.9608 - auc: 0.9905 - loss: 0.2074 - val_acc: 0.9612 - val_auc: 0.9935 - val_loss: 0.1986 - learning_rate: 2.5000e-06\n",
      "Epoch 55/150\n",
      "\u001b[1m345/345\u001b[0m \u001b[32m━━━━━━━━━━━━━━━━━━━━\u001b[0m\u001b[37m\u001b[0m \u001b[1m28s\u001b[0m 76ms/step - acc: 0.9603 - auc: 0.9904 - loss: 0.2080 - val_acc: 0.9612 - val_auc: 0.9934 - val_loss: 0.1996 - learning_rate: 2.5000e-06\n",
      "Epoch 56/150\n",
      "\u001b[1m345/345\u001b[0m \u001b[32m━━━━━━━━━━━━━━━━━━━━\u001b[0m\u001b[37m\u001b[0m \u001b[1m29s\u001b[0m 78ms/step - acc: 0.9606 - auc: 0.9909 - loss: 0.2064 - val_acc: 0.9608 - val_auc: 0.9935 - val_loss: 0.1992 - learning_rate: 2.5000e-06\n",
      "Epoch 57/150\n",
      "\u001b[1m345/345\u001b[0m \u001b[32m━━━━━━━━━━━━━━━━━━━━\u001b[0m\u001b[37m\u001b[0m \u001b[1m28s\u001b[0m 76ms/step - acc: 0.9593 - auc: 0.9909 - loss: 0.2070 - val_acc: 0.9612 - val_auc: 0.9935 - val_loss: 0.1992 - learning_rate: 2.5000e-06\n",
      "Epoch 58/150\n",
      "\u001b[1m345/345\u001b[0m \u001b[32m━━━━━━━━━━━━━━━━━━━━\u001b[0m\u001b[37m\u001b[0m \u001b[1m29s\u001b[0m 79ms/step - acc: 0.9612 - auc: 0.9908 - loss: 0.2059 - val_acc: 0.9619 - val_auc: 0.9935 - val_loss: 0.1991 - learning_rate: 1.2500e-06\n",
      "Epoch 59/150\n",
      "\u001b[1m345/345\u001b[0m \u001b[32m━━━━━━━━━━━━━━━━━━━━\u001b[0m\u001b[37m\u001b[0m \u001b[1m28s\u001b[0m 76ms/step - acc: 0.9602 - auc: 0.9913 - loss: 0.2049 - val_acc: 0.9619 - val_auc: 0.9935 - val_loss: 0.1989 - learning_rate: 1.2500e-06\n",
      "Epoch 60/150\n",
      "\u001b[1m345/345\u001b[0m \u001b[32m━━━━━━━━━━━━━━━━━━━━\u001b[0m\u001b[37m\u001b[0m \u001b[1m29s\u001b[0m 80ms/step - acc: 0.9607 - auc: 0.9912 - loss: 0.2053 - val_acc: 0.9615 - val_auc: 0.9935 - val_loss: 0.1989 - learning_rate: 1.2500e-06\n"
     ]
    },
    {
     "data": {
      "text/plain": [
       "<keras.src.callbacks.history.History at 0x7d32c6702b70>"
      ]
     },
     "execution_count": 5,
     "metadata": {},
     "output_type": "execute_result"
    }
   ],
   "source": [
    "# Fine-tune\n",
    "base.trainable = True\n",
    "for layer in base.layers[:-40]:\n",
    "    layer.trainable = False\n",
    "\n",
    "model.compile(\n",
    "    optimizer=keras.optimizers.AdamW(learning_rate=1e-5, weight_decay=1e-4),\n",
    "    loss=keras.losses.BinaryCrossentropy(label_smoothing=0.05),\n",
    "    metrics=[keras.metrics.BinaryAccuracy(name=\"acc\"), keras.metrics.AUC(name=\"auc\")]\n",
    ")\n",
    "\n",
    "model.fit(train_gen, epochs=150, validation_data=val_gen, callbacks=callbacks)"
   ]
  },
  {
   "cell_type": "markdown",
   "id": "4a540ec5",
   "metadata": {},
   "source": [
    "# Evaluate"
   ]
  },
  {
   "cell_type": "code",
   "execution_count": 8,
   "id": "80b6c82e",
   "metadata": {},
   "outputs": [
    {
     "name": "stdout",
     "output_type": "stream",
     "text": [
      "Test loss: 0.1939 | acc: 0.9619 | auc: 0.9942\n"
     ]
    }
   ],
   "source": [
    "test_loss, test_acc, test_auc = model.evaluate(test_gen, verbose=0)\n",
    "print(f\"Test loss: {test_loss:.4f} | acc: {test_acc:.4f} | auc: {test_auc:.4f}\")"
   ]
  },
  {
   "cell_type": "markdown",
   "id": "962df3e5",
   "metadata": {},
   "source": [
    "# Confusion matrix"
   ]
  },
  {
   "cell_type": "code",
   "execution_count": 9,
   "id": "4fcbb19b",
   "metadata": {},
   "outputs": [
    {
     "name": "stderr",
     "output_type": "stream",
     "text": [
      "2025-08-21 16:19:15.904281: I tensorflow/core/framework/local_rendezvous.cc:407] Local rendezvous is aborting with status: OUT_OF_RANGE: End of sequence\n"
     ]
    },
    {
     "name": "stdout",
     "output_type": "stream",
     "text": [
      "\u001b[1m44/44\u001b[0m \u001b[32m━━━━━━━━━━━━━━━━━━━━\u001b[0m\u001b[37m\u001b[0m \u001b[1m28s\u001b[0m 274ms/step\n"
     ]
    },
    {
     "data": {
      "image/png": "[encoded data removed]",
      "text/plain": [
       "<Figure size 500x400 with 2 Axes>"
      ]
     },
     "metadata": {},
     "output_type": "display_data"
    },
    {
     "name": "stdout",
     "output_type": "stream",
     "text": [
      "              precision    recall  f1-score   support\n",
      "\n",
      "  Uninfected       0.97      0.96      0.96      1378\n",
      " Parasitized       0.96      0.97      0.96      1378\n",
      "\n",
      "    accuracy                           0.96      2756\n",
      "   macro avg       0.96      0.96      0.96      2756\n",
      "weighted avg       0.96      0.96      0.96      2756\n",
      "\n"
     ]
    }
   ],
   "source": [
    "y_true = np.concatenate([y for x, y in test_gen], axis=0)              # ground truth\n",
    "y_pred = model.predict(test_gen)                                       # dự đoán xác suất\n",
    "y_pred_classes = (y_pred > 0.5).astype(\"int32\").flatten()              # chuyển sang 0/1\n",
    "\n",
    "cm = confusion_matrix(y_true, y_pred_classes)\n",
    "labels = [\"Uninfected\", \"Parasitized\"]\n",
    "\n",
    "plt.figure(figsize=(5,4))\n",
    "sns.heatmap(cm, annot=True, fmt=\"d\", cmap=\"Blues\",\n",
    "            xticklabels=labels, yticklabels=labels)\n",
    "plt.xlabel(\"Predicted\")\n",
    "plt.ylabel(\"True\")\n",
    "plt.title(\"Confusion Matrix\")\n",
    "plt.show()\n",
    "\n",
    "print(classification_report(y_true, y_pred_classes, target_names=labels))"
   ]
  }
 ],
 "metadata": {
  "kernelspec": {
   "display_name": "Python3 (ipykernel)",
   "language": "python",
   "name": "python3"
  },
  "language_info": {
   "codemirror_mode": {
    "name": "ipython",
    "version": 3
   },
   "file_extension": ".py",
   "mimetype": "text/x-python",
   "name": "python",
   "nbconvert_exporter": "python",
   "pygments_lexer": "ipython3",
   "version": "3.12.11"
  }
 },
 "nbformat": 4,
 "nbformat_minor": 5
}
