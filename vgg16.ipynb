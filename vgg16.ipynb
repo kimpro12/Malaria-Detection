{
 "cells": [
  {
   "cell_type": "markdown",
   "id": "48efc834",
   "metadata": {},
   "source": [
    "# Import libaries"
   ]
  },
  {
   "cell_type": "code",
   "execution_count": 1,
   "id": "50eb8847",
   "metadata": {},
   "outputs": [
    {
     "name": "stderr",
     "output_type": "stream",
     "text": [
      "2025-08-21 14:31:35.219324: I tensorflow/core/platform/cpu_feature_guard.cc:210] This TensorFlow binary is optimized to use available CPU instructions in performance-critical operations.\n",
      "To enable the following instructions: AVX2 FMA, in other operations, rebuild TensorFlow with the appropriate compiler flags.\n"
     ]
    }
   ],
   "source": [
    "import os\n",
    "import numpy as np\n",
    "import matplotlib.pyplot as plt\n",
    "import seaborn as sns\n",
    "from sklearn.metrics import confusion_matrix, classification_report\n",
    "import tensorflow as tf\n",
    "from tensorflow import keras\n",
    "from tensorflow.keras import layers, models\n",
    "from tensorflow.keras.applications.vgg16 import VGG16, preprocess_input\n",
    "from tensorflow.keras import mixed_precision\n",
    "mixed_precision.set_global_policy('mixed_float16')"
   ]
  },
  {
   "cell_type": "markdown",
   "id": "eab0192a",
   "metadata": {},
   "source": [
    "# Load dataset and augmentation"
   ]
  },
  {
   "cell_type": "code",
   "execution_count": 2,
   "id": "b9bebe6a",
   "metadata": {},
   "outputs": [
    {
     "name": "stdout",
     "output_type": "stream",
     "text": [
      "Found 22046 files belonging to 2 classes.\n"
     ]
    },
    {
     "name": "stderr",
     "output_type": "stream",
     "text": [
      "WARNING: All log messages before absl::InitializeLog() is called are written to STDERR\n",
      "I0000 00:00:1755786700.408267    7885 gpu_device.cc:2020] Created device /job:localhost/replica:0/task:0/device:GPU:0 with 22162 MB memory:  -> device: 0, name: NVIDIA GeForce RTX 4090, pci bus id: 0000:61:00.0, compute capability: 8.9\n"
     ]
    },
    {
     "name": "stdout",
     "output_type": "stream",
     "text": [
      "Found 2756 files belonging to 2 classes.\n",
      "Found 2756 files belonging to 2 classes.\n"
     ]
    }
   ],
   "source": [
    "BASE_DIR   = \"Malaria-Detection/Dataset\"   # Dataset/{train,val,test}/{Parasitized,Uninfected}\n",
    "IMG_SIZE   = (224, 224)\n",
    "BATCH_SIZE = 64\n",
    "SEED       = 42\n",
    "AUTOTUNE   = tf.data.AUTOTUNE\n",
    "\n",
    "# ====== Dataset loaders ======\n",
    "train_gen = tf.keras.utils.image_dataset_from_directory(\n",
    "    directory = f\"{BASE_DIR}/train\",\n",
    "    labels=\"inferred\",\n",
    "    label_mode=\"binary\",\n",
    "    image_size=IMG_SIZE,\n",
    "    batch_size=BATCH_SIZE,\n",
    "    shuffle=True,\n",
    "    seed=SEED\n",
    ")\n",
    "\n",
    "val_gen = tf.keras.utils.image_dataset_from_directory(\n",
    "    directory = f\"{BASE_DIR}/val\",\n",
    "    labels=\"inferred\",\n",
    "    label_mode=\"binary\",\n",
    "    image_size=IMG_SIZE,\n",
    "    batch_size=BATCH_SIZE,\n",
    "    shuffle=False\n",
    ")\n",
    "\n",
    "test_gen = tf.keras.utils.image_dataset_from_directory(\n",
    "    directory = f\"{BASE_DIR}/test\",\n",
    "    labels=\"inferred\",\n",
    "    label_mode=\"binary\",\n",
    "    image_size=IMG_SIZE,\n",
    "    batch_size=BATCH_SIZE,\n",
    "    shuffle=False\n",
    ")\n",
    "\n",
    "# ====== Preprocessing pipeline ======\n",
    "# augment chỉ áp dụng cho train\n",
    "data_augmentation = tf.keras.Sequential([\n",
    "    tf.keras.layers.RandomFlip(\"horizontal_and_vertical\"),\n",
    "    tf.keras.layers.RandomRotation(0.1),\n",
    "    tf.keras.layers.RandomZoom(0.1),\n",
    "    tf.keras.layers.RandomTranslation(0.1, 0.1),\n",
    "])\n",
    "\n",
    "# map pipeline: augment (chỉ train) + preprocess_input\n",
    "train_gen = (\n",
    "    train_gen\n",
    "    .map(lambda x, y: (data_augmentation(x, training=True), y),\n",
    "         num_parallel_calls=AUTOTUNE)\n",
    "    .map(lambda x, y: (preprocess_input(x), y),\n",
    "         num_parallel_calls=AUTOTUNE)\n",
    "    .prefetch(AUTOTUNE)\n",
    ")\n",
    "\n",
    "val_gen = (\n",
    "    val_gen\n",
    "    .map(lambda x, y: (preprocess_input(x), y), num_parallel_calls=AUTOTUNE)\n",
    "    .cache()\n",
    "    .prefetch(AUTOTUNE)\n",
    ")\n",
    "\n",
    "test_gen = (\n",
    "    test_gen\n",
    "    .map(lambda x, y: (preprocess_input(x), y), num_parallel_calls=AUTOTUNE)\n",
    "    .cache()\n",
    "    .prefetch(AUTOTUNE)\n",
    ")"
   ]
  },
  {
   "cell_type": "markdown",
   "id": "0210a973",
   "metadata": {},
   "source": [
    "# Build model"
   ]
  },
  {
   "cell_type": "code",
   "execution_count": 3,
   "id": "5c941491",
   "metadata": {},
   "outputs": [],
   "source": [
    "base = VGG16(weights=\"imagenet\", include_top=False, input_shape=IMG_SIZE+(3,))\n",
    "base.trainable = False  # warm-up\n",
    "\n",
    "inputs = layers.Input(shape=IMG_SIZE+(3,))\n",
    "x = inputs\n",
    "x = base(x, training=False)\n",
    "x = layers.GlobalAveragePooling2D()(x)\n",
    "x = layers.Dropout(0.3)(x)\n",
    "outputs = layers.Dense(1, activation=\"sigmoid\", dtype=\"float32\")(x)\n",
    "model = models.Model(inputs, outputs)\n",
    "\n",
    "model.compile(\n",
    "    optimizer=keras.optimizers.AdamW(learning_rate=1e-3, weight_decay=5e-4),\n",
    "    loss=keras.losses.BinaryCrossentropy(),\n",
    "    metrics=['accuracy']\n",
    ")"
   ]
  },
  {
   "cell_type": "markdown",
   "id": "fde447b2",
   "metadata": {},
   "source": [
    "# Train model"
   ]
  },
  {
   "cell_type": "code",
   "execution_count": 4,
   "id": "4cf02061",
   "metadata": {},
   "outputs": [
    {
     "name": "stdout",
     "output_type": "stream",
     "text": [
      "Epoch 1/20\n"
     ]
    },
    {
     "name": "stderr",
     "output_type": "stream",
     "text": [
      "2025-08-21 14:31:56.962179: I external/local_xla/xla/service/service.cc:163] XLA service 0x7c1b8000d4a0 initialized for platform CUDA (this does not guarantee that XLA will be used). Devices:\n",
      "2025-08-21 14:31:56.962220: I external/local_xla/xla/service/service.cc:171]   StreamExecutor device (0): NVIDIA GeForce RTX 4090, Compute Capability 8.9\n",
      "2025-08-21 14:31:57.070789: I tensorflow/compiler/mlir/tensorflow/utils/dump_mlir_util.cc:269] disabling MLIR crash reproducer, set env var `MLIR_CRASH_REPRODUCER_DIRECTORY` to enable.\n",
      "2025-08-21 14:31:58.671221: I external/local_xla/xla/stream_executor/cuda/cuda_dnn.cc:473] Loaded cuDNN version 91200\n",
      "2025-08-21 14:32:05.028657: E external/local_xla/xla/service/slow_operation_alarm.cc:73] Trying algorithm eng10{k2=4,k13=0,k14=2,k18=1,k23=0} for conv (f16[64,224,224,64]{3,2,1,0}, u8[0]{0}) custom-call(f16[64,224,224,3]{3,2,1,0}, f16[64,3,3,3]{3,2,1,0}, f16[64]{0}), window={size=3x3 pad=1_1x1_1}, dim_labels=b01f_o01i->b01f, custom_call_target=\"__cudnn$convBiasActivationForward\", backend_config={\"operation_queue_id\":\"0\",\"wait_on_operation_queues\":[],\"cudnn_conv_backend_config\":{\"activation_mode\":\"kRelu\",\"conv_result_scale\":1,\"side_input_scale\":0,\"leakyrelu_alpha\":0},\"force_earliest_schedule\":false,\"reification_cost\":[]} is taking a while...\n",
      "2025-08-21 14:32:05.540135: E external/local_xla/xla/service/slow_operation_alarm.cc:140] The operation took 1.595739773s\n",
      "Trying algorithm eng10{k2=4,k13=0,k14=2,k18=1,k23=0} for conv (f16[64,224,224,64]{3,2,1,0}, u8[0]{0}) custom-call(f16[64,224,224,3]{3,2,1,0}, f16[64,3,3,3]{3,2,1,0}, f16[64]{0}), window={size=3x3 pad=1_1x1_1}, dim_labels=b01f_o01i->b01f, custom_call_target=\"__cudnn$convBiasActivationForward\", backend_config={\"operation_queue_id\":\"0\",\"wait_on_operation_queues\":[],\"cudnn_conv_backend_config\":{\"activation_mode\":\"kRelu\",\"conv_result_scale\":1,\"side_input_scale\":0,\"leakyrelu_alpha\":0},\"force_earliest_schedule\":false,\"reification_cost\":[]} is taking a while...\n",
      "2025-08-21 14:32:06.128803: E external/local_xla/xla/stream_executor/cuda/cuda_timer.cc:86] Delay kernel timed out: measured time has sub-optimal accuracy. There may be a missing warmup execution, please investigate in Nsight Systems.\n",
      "2025-08-21 14:32:06.330191: E external/local_xla/xla/stream_executor/cuda/cuda_timer.cc:86] Delay kernel timed out: measured time has sub-optimal accuracy. There may be a missing warmup execution, please investigate in Nsight Systems.\n",
      "2025-08-21 14:32:06.528973: E external/local_xla/xla/stream_executor/cuda/cuda_timer.cc:86] Delay kernel timed out: measured time has sub-optimal accuracy. There may be a missing warmup execution, please investigate in Nsight Systems.\n",
      "2025-08-21 14:32:07.637242: E external/local_xla/xla/service/slow_operation_alarm.cc:73] Trying algorithm eng10{k2=5,k13=1,k14=3,k18=0,k23=0} for conv (f16[64,224,224,64]{3,2,1,0}, u8[0]{0}) custom-call(f16[64,224,224,3]{3,2,1,0}, f16[64,3,3,3]{3,2,1,0}, f16[64]{0}), window={size=3x3 pad=1_1x1_1}, dim_labels=b01f_o01i->b01f, custom_call_target=\"__cudnn$convBiasActivationForward\", backend_config={\"operation_queue_id\":\"0\",\"wait_on_operation_queues\":[],\"cudnn_conv_backend_config\":{\"activation_mode\":\"kRelu\",\"conv_result_scale\":1,\"side_input_scale\":0,\"leakyrelu_alpha\":0},\"force_earliest_schedule\":false,\"reification_cost\":[]} is taking a while...\n",
      "2025-08-21 14:32:14.641585: E external/local_xla/xla/service/slow_operation_alarm.cc:140] The operation took 8.004434784s\n",
      "Trying algorithm eng10{k2=5,k13=1,k14=3,k18=0,k23=0} for conv (f16[64,224,224,64]{3,2,1,0}, u8[0]{0}) custom-call(f16[64,224,224,3]{3,2,1,0}, f16[64,3,3,3]{3,2,1,0}, f16[64]{0}), window={size=3x3 pad=1_1x1_1}, dim_labels=b01f_o01i->b01f, custom_call_target=\"__cudnn$convBiasActivationForward\", backend_config={\"operation_queue_id\":\"0\",\"wait_on_operation_queues\":[],\"cudnn_conv_backend_config\":{\"activation_mode\":\"kRelu\",\"conv_result_scale\":1,\"side_input_scale\":0,\"leakyrelu_alpha\":0},\"force_earliest_schedule\":false,\"reification_cost\":[]} is taking a while...\n",
      "2025-08-21 14:32:16.728812: E external/local_xla/xla/service/slow_operation_alarm.cc:73] Trying algorithm eng0{} for conv (f16[64,224,224,64]{3,2,1,0}, u8[0]{0}) custom-call(f16[64,224,224,3]{3,2,1,0}, f16[64,3,3,3]{3,2,1,0}, f16[64]{0}), window={size=3x3 pad=1_1x1_1}, dim_labels=b01f_o01i->b01f, custom_call_target=\"__cudnn$convBiasActivationForward\", backend_config={\"operation_queue_id\":\"0\",\"wait_on_operation_queues\":[],\"cudnn_conv_backend_config\":{\"activation_mode\":\"kRelu\",\"conv_result_scale\":1,\"side_input_scale\":0,\"leakyrelu_alpha\":0},\"force_earliest_schedule\":false,\"reification_cost\":[]} is taking a while...\n",
      "2025-08-21 14:32:18.539451: E external/local_xla/xla/service/slow_operation_alarm.cc:140] The operation took 2.81075198s\n",
      "Trying algorithm eng0{} for conv (f16[64,224,224,64]{3,2,1,0}, u8[0]{0}) custom-call(f16[64,224,224,3]{3,2,1,0}, f16[64,3,3,3]{3,2,1,0}, f16[64]{0}), window={size=3x3 pad=1_1x1_1}, dim_labels=b01f_o01i->b01f, custom_call_target=\"__cudnn$convBiasActivationForward\", backend_config={\"operation_queue_id\":\"0\",\"wait_on_operation_queues\":[],\"cudnn_conv_backend_config\":{\"activation_mode\":\"kRelu\",\"conv_result_scale\":1,\"side_input_scale\":0,\"leakyrelu_alpha\":0},\"force_earliest_schedule\":false,\"reification_cost\":[]} is taking a while...\n",
      "2025-08-21 14:32:19.539781: E external/local_xla/xla/service/slow_operation_alarm.cc:73] Trying algorithm eng12{k11=0} for conv (f16[64,224,224,64]{3,2,1,0}, u8[0]{0}) custom-call(f16[64,224,224,3]{3,2,1,0}, f16[64,3,3,3]{3,2,1,0}, f16[64]{0}), window={size=3x3 pad=1_1x1_1}, dim_labels=b01f_o01i->b01f, custom_call_target=\"__cudnn$convBiasActivationForward\", backend_config={\"operation_queue_id\":\"0\",\"wait_on_operation_queues\":[],\"cudnn_conv_backend_config\":{\"activation_mode\":\"kRelu\",\"conv_result_scale\":1,\"side_input_scale\":0,\"leakyrelu_alpha\":0},\"force_earliest_schedule\":false,\"reification_cost\":[]} is taking a while...\n",
      "2025-08-21 14:32:19.941138: E external/local_xla/xla/service/slow_operation_alarm.cc:140] The operation took 1.40148907s\n",
      "Trying algorithm eng12{k11=0} for conv (f16[64,224,224,64]{3,2,1,0}, u8[0]{0}) custom-call(f16[64,224,224,3]{3,2,1,0}, f16[64,3,3,3]{3,2,1,0}, f16[64]{0}), window={size=3x3 pad=1_1x1_1}, dim_labels=b01f_o01i->b01f, custom_call_target=\"__cudnn$convBiasActivationForward\", backend_config={\"operation_queue_id\":\"0\",\"wait_on_operation_queues\":[],\"cudnn_conv_backend_config\":{\"activation_mode\":\"kRelu\",\"conv_result_scale\":1,\"side_input_scale\":0,\"leakyrelu_alpha\":0},\"force_earliest_schedule\":false,\"reification_cost\":[]} is taking a while...\n",
      "2025-08-21 14:32:21.628339: E external/local_xla/xla/stream_executor/cuda/cuda_timer.cc:86] Delay kernel timed out: measured time has sub-optimal accuracy. There may be a missing warmup execution, please investigate in Nsight Systems.\n"
     ]
    },
    {
     "name": "stdout",
     "output_type": "stream",
     "text": [
      "\u001b[1m  5/345\u001b[0m \u001b[37m━━━━━━━━━━━━━━━━━━━━\u001b[0m \u001b[1m11s\u001b[0m 34ms/step - accuracy: 0.5426 - loss: 1.6349"
     ]
    },
    {
     "name": "stderr",
     "output_type": "stream",
     "text": [
      "I0000 00:00:1755786745.751968    8845 device_compiler.h:196] Compiled cluster using XLA!  This line is logged at most once for the lifetime of the process.\n"
     ]
    },
    {
     "name": "stdout",
     "output_type": "stream",
     "text": [
      "\u001b[1m345/345\u001b[0m \u001b[32m━━━━━━━━━━━━━━━━━━━━\u001b[0m\u001b[37m\u001b[0m \u001b[1m49s\u001b[0m 49ms/step - accuracy: 0.8191 - loss: 0.4848 - val_accuracy: 0.9311 - val_loss: 0.1848 - learning_rate: 0.0010\n",
      "Epoch 2/20\n",
      "\u001b[1m345/345\u001b[0m \u001b[32m━━━━━━━━━━━━━━━━━━━━\u001b[0m\u001b[37m\u001b[0m \u001b[1m32s\u001b[0m 86ms/step - accuracy: 0.8968 - loss: 0.2753 - val_accuracy: 0.9387 - val_loss: 0.1929 - learning_rate: 0.0010\n",
      "Epoch 3/20\n",
      "\u001b[1m345/345\u001b[0m \u001b[32m━━━━━━━━━━━━━━━━━━━━\u001b[0m\u001b[37m\u001b[0m \u001b[1m32s\u001b[0m 88ms/step - accuracy: 0.9092 - loss: 0.2481 - val_accuracy: 0.9387 - val_loss: 0.1768 - learning_rate: 0.0010\n",
      "Epoch 4/20\n",
      "\u001b[1m345/345\u001b[0m \u001b[32m━━━━━━━━━━━━━━━━━━━━\u001b[0m\u001b[37m\u001b[0m \u001b[1m31s\u001b[0m 85ms/step - accuracy: 0.9103 - loss: 0.2389 - val_accuracy: 0.9398 - val_loss: 0.1738 - learning_rate: 0.0010\n",
      "Epoch 5/20\n",
      "\u001b[1m345/345\u001b[0m \u001b[32m━━━━━━━━━━━━━━━━━━━━\u001b[0m\u001b[37m\u001b[0m \u001b[1m32s\u001b[0m 88ms/step - accuracy: 0.9145 - loss: 0.2367 - val_accuracy: 0.9380 - val_loss: 0.1763 - learning_rate: 0.0010\n",
      "Epoch 6/20\n",
      "\u001b[1m345/345\u001b[0m \u001b[32m━━━━━━━━━━━━━━━━━━━━\u001b[0m\u001b[37m\u001b[0m \u001b[1m32s\u001b[0m 88ms/step - accuracy: 0.9158 - loss: 0.2323 - val_accuracy: 0.9387 - val_loss: 0.1806 - learning_rate: 0.0010\n",
      "Epoch 7/20\n",
      "\u001b[1m345/345\u001b[0m \u001b[32m━━━━━━━━━━━━━━━━━━━━\u001b[0m\u001b[37m\u001b[0m \u001b[1m32s\u001b[0m 89ms/step - accuracy: 0.9178 - loss: 0.2277 - val_accuracy: 0.9405 - val_loss: 0.1937 - learning_rate: 0.0010\n",
      "Epoch 8/20\n",
      "\u001b[1m345/345\u001b[0m \u001b[32m━━━━━━━━━━━━━━━━━━━━\u001b[0m\u001b[37m\u001b[0m \u001b[1m32s\u001b[0m 86ms/step - accuracy: 0.9144 - loss: 0.2276 - val_accuracy: 0.9427 - val_loss: 0.1744 - learning_rate: 5.0000e-04\n",
      "Epoch 9/20\n",
      "\u001b[1m345/345\u001b[0m \u001b[32m━━━━━━━━━━━━━━━━━━━━\u001b[0m\u001b[37m\u001b[0m \u001b[1m32s\u001b[0m 87ms/step - accuracy: 0.9147 - loss: 0.2323 - val_accuracy: 0.9430 - val_loss: 0.1780 - learning_rate: 5.0000e-04\n",
      "Epoch 10/20\n",
      "\u001b[1m345/345\u001b[0m \u001b[32m━━━━━━━━━━━━━━━━━━━━\u001b[0m\u001b[37m\u001b[0m \u001b[1m32s\u001b[0m 87ms/step - accuracy: 0.9144 - loss: 0.2292 - val_accuracy: 0.9412 - val_loss: 0.1763 - learning_rate: 5.0000e-04\n"
     ]
    }
   ],
   "source": [
    "callbacks = [\n",
    "    keras.callbacks.EarlyStopping(patience=6, restore_best_weights=True, monitor='val_loss'),\n",
    "    keras.callbacks.ReduceLROnPlateau(factor=0.5, patience=3, min_lr=1e-6),\n",
    "]\n",
    "\n",
    "# Warm-up\n",
    "history = model.fit(\n",
    "    train_gen,\n",
    "    epochs=20,\n",
    "    validation_data=val_gen,\n",
    "    callbacks=callbacks,\n",
    "    verbose=1\n",
    ")"
   ]
  },
  {
   "cell_type": "code",
   "execution_count": 5,
   "id": "0f458d8d-67f9-4d09-93dd-7d173b4630d4",
   "metadata": {},
   "outputs": [
    {
     "name": "stdout",
     "output_type": "stream",
     "text": [
      "Epoch 1/50\n"
     ]
    },
    {
     "name": "stderr",
     "output_type": "stream",
     "text": [
      "2025-08-21 14:38:19.928417: E external/local_xla/xla/stream_executor/cuda/cuda_timer.cc:86] Delay kernel timed out: measured time has sub-optimal accuracy. There may be a missing warmup execution, please investigate in Nsight Systems.\n",
      "2025-08-21 14:38:26.553490: E external/local_xla/xla/service/slow_operation_alarm.cc:73] Trying algorithm eng0{} for conv (f16[64,224,224,64]{3,2,1,0}, u8[0]{0}) custom-call(f16[64,224,224,64]{3,2,1,0}, f16[64,3,3,64]{3,2,1,0}), window={size=3x3 pad=1_1x1_1}, dim_labels=b01f_o01i->b01f, custom_call_target=\"__cudnn$convBackwardInput\", backend_config={\"operation_queue_id\":\"0\",\"wait_on_operation_queues\":[],\"cudnn_conv_backend_config\":{\"activation_mode\":\"kNone\",\"conv_result_scale\":1,\"side_input_scale\":0,\"leakyrelu_alpha\":0},\"force_earliest_schedule\":false,\"reification_cost\":[]} is taking a while...\n",
      "2025-08-21 14:38:26.655361: E external/local_xla/xla/service/slow_operation_alarm.cc:140] The operation took 1.102021675s\n",
      "Trying algorithm eng0{} for conv (f16[64,224,224,64]{3,2,1,0}, u8[0]{0}) custom-call(f16[64,224,224,64]{3,2,1,0}, f16[64,3,3,64]{3,2,1,0}), window={size=3x3 pad=1_1x1_1}, dim_labels=b01f_o01i->b01f, custom_call_target=\"__cudnn$convBackwardInput\", backend_config={\"operation_queue_id\":\"0\",\"wait_on_operation_queues\":[],\"cudnn_conv_backend_config\":{\"activation_mode\":\"kNone\",\"conv_result_scale\":1,\"side_input_scale\":0,\"leakyrelu_alpha\":0},\"force_earliest_schedule\":false,\"reification_cost\":[]} is taking a while...\n",
      "2025-08-21 14:38:36.805462: E external/local_xla/xla/service/slow_operation_alarm.cc:73] Trying algorithm eng19{k2=3} for conv (f16[64,3,3,64]{3,2,1,0}, u8[0]{0}) custom-call(f16[64,224,224,64]{3,2,1,0}, f16[64,224,224,64]{3,2,1,0}), window={size=3x3 pad=1_1x1_1}, dim_labels=b01f_o01i->b01f, custom_call_target=\"__cudnn$convBackwardFilter\", backend_config={\"operation_queue_id\":\"0\",\"wait_on_operation_queues\":[],\"cudnn_conv_backend_config\":{\"activation_mode\":\"kNone\",\"conv_result_scale\":1,\"side_input_scale\":0,\"leakyrelu_alpha\":0},\"force_earliest_schedule\":false,\"reification_cost\":[]} is taking a while...\n",
      "2025-08-21 14:38:39.166133: E external/local_xla/xla/service/slow_operation_alarm.cc:140] The operation took 3.360782146s\n",
      "Trying algorithm eng19{k2=3} for conv (f16[64,3,3,64]{3,2,1,0}, u8[0]{0}) custom-call(f16[64,224,224,64]{3,2,1,0}, f16[64,224,224,64]{3,2,1,0}), window={size=3x3 pad=1_1x1_1}, dim_labels=b01f_o01i->b01f, custom_call_target=\"__cudnn$convBackwardFilter\", backend_config={\"operation_queue_id\":\"0\",\"wait_on_operation_queues\":[],\"cudnn_conv_backend_config\":{\"activation_mode\":\"kNone\",\"conv_result_scale\":1,\"side_input_scale\":0,\"leakyrelu_alpha\":0},\"force_earliest_schedule\":false,\"reification_cost\":[]} is taking a while...\n",
      "2025-08-21 14:38:40.166376: E external/local_xla/xla/service/slow_operation_alarm.cc:73] Trying algorithm eng19{k2=1} for conv (f16[64,3,3,64]{3,2,1,0}, u8[0]{0}) custom-call(f16[64,224,224,64]{3,2,1,0}, f16[64,224,224,64]{3,2,1,0}), window={size=3x3 pad=1_1x1_1}, dim_labels=b01f_o01i->b01f, custom_call_target=\"__cudnn$convBackwardFilter\", backend_config={\"operation_queue_id\":\"0\",\"wait_on_operation_queues\":[],\"cudnn_conv_backend_config\":{\"activation_mode\":\"kNone\",\"conv_result_scale\":1,\"side_input_scale\":0,\"leakyrelu_alpha\":0},\"force_earliest_schedule\":false,\"reification_cost\":[]} is taking a while...\n",
      "2025-08-21 14:38:42.850890: E external/local_xla/xla/service/slow_operation_alarm.cc:140] The operation took 3.684600208s\n",
      "Trying algorithm eng19{k2=1} for conv (f16[64,3,3,64]{3,2,1,0}, u8[0]{0}) custom-call(f16[64,224,224,64]{3,2,1,0}, f16[64,224,224,64]{3,2,1,0}), window={size=3x3 pad=1_1x1_1}, dim_labels=b01f_o01i->b01f, custom_call_target=\"__cudnn$convBackwardFilter\", backend_config={\"operation_queue_id\":\"0\",\"wait_on_operation_queues\":[],\"cudnn_conv_backend_config\":{\"activation_mode\":\"kNone\",\"conv_result_scale\":1,\"side_input_scale\":0,\"leakyrelu_alpha\":0},\"force_earliest_schedule\":false,\"reification_cost\":[]} is taking a while...\n",
      "2025-08-21 14:38:43.851225: E external/local_xla/xla/service/slow_operation_alarm.cc:73] Trying algorithm eng19{k2=4} for conv (f16[64,3,3,64]{3,2,1,0}, u8[0]{0}) custom-call(f16[64,224,224,64]{3,2,1,0}, f16[64,224,224,64]{3,2,1,0}), window={size=3x3 pad=1_1x1_1}, dim_labels=b01f_o01i->b01f, custom_call_target=\"__cudnn$convBackwardFilter\", backend_config={\"operation_queue_id\":\"0\",\"wait_on_operation_queues\":[],\"cudnn_conv_backend_config\":{\"activation_mode\":\"kNone\",\"conv_result_scale\":1,\"side_input_scale\":0,\"leakyrelu_alpha\":0},\"force_earliest_schedule\":false,\"reification_cost\":[]} is taking a while...\n",
      "2025-08-21 14:38:46.029288: E external/local_xla/xla/service/slow_operation_alarm.cc:140] The operation took 3.178195284s\n",
      "Trying algorithm eng19{k2=4} for conv (f16[64,3,3,64]{3,2,1,0}, u8[0]{0}) custom-call(f16[64,224,224,64]{3,2,1,0}, f16[64,224,224,64]{3,2,1,0}), window={size=3x3 pad=1_1x1_1}, dim_labels=b01f_o01i->b01f, custom_call_target=\"__cudnn$convBackwardFilter\", backend_config={\"operation_queue_id\":\"0\",\"wait_on_operation_queues\":[],\"cudnn_conv_backend_config\":{\"activation_mode\":\"kNone\",\"conv_result_scale\":1,\"side_input_scale\":0,\"leakyrelu_alpha\":0},\"force_earliest_schedule\":false,\"reification_cost\":[]} is taking a while...\n",
      "2025-08-21 14:38:47.029550: E external/local_xla/xla/service/slow_operation_alarm.cc:73] Trying algorithm eng19{k2=0} for conv (f16[64,3,3,64]{3,2,1,0}, u8[0]{0}) custom-call(f16[64,224,224,64]{3,2,1,0}, f16[64,224,224,64]{3,2,1,0}), window={size=3x3 pad=1_1x1_1}, dim_labels=b01f_o01i->b01f, custom_call_target=\"__cudnn$convBackwardFilter\", backend_config={\"operation_queue_id\":\"0\",\"wait_on_operation_queues\":[],\"cudnn_conv_backend_config\":{\"activation_mode\":\"kNone\",\"conv_result_scale\":1,\"side_input_scale\":0,\"leakyrelu_alpha\":0},\"force_earliest_schedule\":false,\"reification_cost\":[]} is taking a while...\n",
      "2025-08-21 14:38:50.998399: E external/local_xla/xla/service/slow_operation_alarm.cc:140] The operation took 4.968948423s\n",
      "Trying algorithm eng19{k2=0} for conv (f16[64,3,3,64]{3,2,1,0}, u8[0]{0}) custom-call(f16[64,224,224,64]{3,2,1,0}, f16[64,224,224,64]{3,2,1,0}), window={size=3x3 pad=1_1x1_1}, dim_labels=b01f_o01i->b01f, custom_call_target=\"__cudnn$convBackwardFilter\", backend_config={\"operation_queue_id\":\"0\",\"wait_on_operation_queues\":[],\"cudnn_conv_backend_config\":{\"activation_mode\":\"kNone\",\"conv_result_scale\":1,\"side_input_scale\":0,\"leakyrelu_alpha\":0},\"force_earliest_schedule\":false,\"reification_cost\":[]} is taking a while...\n",
      "2025-08-21 14:38:57.249907: E external/local_xla/xla/service/slow_operation_alarm.cc:73] Trying algorithm eng19{k2=1} for conv (f16[128,3,3,64]{3,2,1,0}, u8[0]{0}) custom-call(f16[64,112,112,64]{3,2,1,0}, f16[64,112,112,128]{3,2,1,0}), window={size=3x3 pad=1_1x1_1}, dim_labels=b01f_o01i->b01f, custom_call_target=\"__cudnn$convBackwardFilter\", backend_config={\"operation_queue_id\":\"0\",\"wait_on_operation_queues\":[],\"cudnn_conv_backend_config\":{\"activation_mode\":\"kNone\",\"conv_result_scale\":1,\"side_input_scale\":0,\"leakyrelu_alpha\":0},\"force_earliest_schedule\":false,\"reification_cost\":[]} is taking a while...\n",
      "2025-08-21 14:38:59.122560: E external/local_xla/xla/service/slow_operation_alarm.cc:140] The operation took 2.872759128s\n",
      "Trying algorithm eng19{k2=1} for conv (f16[128,3,3,64]{3,2,1,0}, u8[0]{0}) custom-call(f16[64,112,112,64]{3,2,1,0}, f16[64,112,112,128]{3,2,1,0}), window={size=3x3 pad=1_1x1_1}, dim_labels=b01f_o01i->b01f, custom_call_target=\"__cudnn$convBackwardFilter\", backend_config={\"operation_queue_id\":\"0\",\"wait_on_operation_queues\":[],\"cudnn_conv_backend_config\":{\"activation_mode\":\"kNone\",\"conv_result_scale\":1,\"side_input_scale\":0,\"leakyrelu_alpha\":0},\"force_earliest_schedule\":false,\"reification_cost\":[]} is taking a while...\n",
      "2025-08-21 14:39:00.122842: E external/local_xla/xla/service/slow_operation_alarm.cc:73] Trying algorithm eng19{k2=0} for conv (f16[128,3,3,64]{3,2,1,0}, u8[0]{0}) custom-call(f16[64,112,112,64]{3,2,1,0}, f16[64,112,112,128]{3,2,1,0}), window={size=3x3 pad=1_1x1_1}, dim_labels=b01f_o01i->b01f, custom_call_target=\"__cudnn$convBackwardFilter\", backend_config={\"operation_queue_id\":\"0\",\"wait_on_operation_queues\":[],\"cudnn_conv_backend_config\":{\"activation_mode\":\"kNone\",\"conv_result_scale\":1,\"side_input_scale\":0,\"leakyrelu_alpha\":0},\"force_earliest_schedule\":false,\"reification_cost\":[]} is taking a while...\n",
      "2025-08-21 14:39:00.796319: E external/local_xla/xla/service/slow_operation_alarm.cc:140] The operation took 1.67360872s\n",
      "Trying algorithm eng19{k2=0} for conv (f16[128,3,3,64]{3,2,1,0}, u8[0]{0}) custom-call(f16[64,112,112,64]{3,2,1,0}, f16[64,112,112,128]{3,2,1,0}), window={size=3x3 pad=1_1x1_1}, dim_labels=b01f_o01i->b01f, custom_call_target=\"__cudnn$convBackwardFilter\", backend_config={\"operation_queue_id\":\"0\",\"wait_on_operation_queues\":[],\"cudnn_conv_backend_config\":{\"activation_mode\":\"kNone\",\"conv_result_scale\":1,\"side_input_scale\":0,\"leakyrelu_alpha\":0},\"force_earliest_schedule\":false,\"reification_cost\":[]} is taking a while...\n",
      "2025-08-21 14:39:06.007963: E external/local_xla/xla/service/slow_operation_alarm.cc:73] Trying algorithm eng19{k2=3} for conv (f16[128,3,3,128]{3,2,1,0}, u8[0]{0}) custom-call(f16[64,112,112,128]{3,2,1,0}, f16[64,112,112,128]{3,2,1,0}), window={size=3x3 pad=1_1x1_1}, dim_labels=b01f_o01i->b01f, custom_call_target=\"__cudnn$convBackwardFilter\", backend_config={\"operation_queue_id\":\"0\",\"wait_on_operation_queues\":[],\"cudnn_conv_backend_config\":{\"activation_mode\":\"kNone\",\"conv_result_scale\":1,\"side_input_scale\":0,\"leakyrelu_alpha\":0},\"force_earliest_schedule\":false,\"reification_cost\":[]} is taking a while...\n",
      "2025-08-21 14:39:08.691763: E external/local_xla/xla/service/slow_operation_alarm.cc:140] The operation took 3.683897913s\n",
      "Trying algorithm eng19{k2=3} for conv (f16[128,3,3,128]{3,2,1,0}, u8[0]{0}) custom-call(f16[64,112,112,128]{3,2,1,0}, f16[64,112,112,128]{3,2,1,0}), window={size=3x3 pad=1_1x1_1}, dim_labels=b01f_o01i->b01f, custom_call_target=\"__cudnn$convBackwardFilter\", backend_config={\"operation_queue_id\":\"0\",\"wait_on_operation_queues\":[],\"cudnn_conv_backend_config\":{\"activation_mode\":\"kNone\",\"conv_result_scale\":1,\"side_input_scale\":0,\"leakyrelu_alpha\":0},\"force_earliest_schedule\":false,\"reification_cost\":[]} is taking a while...\n",
      "2025-08-21 14:39:09.692135: E external/local_xla/xla/service/slow_operation_alarm.cc:73] Trying algorithm eng19{k2=1} for conv (f16[128,3,3,128]{3,2,1,0}, u8[0]{0}) custom-call(f16[64,112,112,128]{3,2,1,0}, f16[64,112,112,128]{3,2,1,0}), window={size=3x3 pad=1_1x1_1}, dim_labels=b01f_o01i->b01f, custom_call_target=\"__cudnn$convBackwardFilter\", backend_config={\"operation_queue_id\":\"0\",\"wait_on_operation_queues\":[],\"cudnn_conv_backend_config\":{\"activation_mode\":\"kNone\",\"conv_result_scale\":1,\"side_input_scale\":0,\"leakyrelu_alpha\":0},\"force_earliest_schedule\":false,\"reification_cost\":[]} is taking a while...\n",
      "2025-08-21 14:39:13.159285: E external/local_xla/xla/service/slow_operation_alarm.cc:140] The operation took 4.467305621s\n",
      "Trying algorithm eng19{k2=1} for conv (f16[128,3,3,128]{3,2,1,0}, u8[0]{0}) custom-call(f16[64,112,112,128]{3,2,1,0}, f16[64,112,112,128]{3,2,1,0}), window={size=3x3 pad=1_1x1_1}, dim_labels=b01f_o01i->b01f, custom_call_target=\"__cudnn$convBackwardFilter\", backend_config={\"operation_queue_id\":\"0\",\"wait_on_operation_queues\":[],\"cudnn_conv_backend_config\":{\"activation_mode\":\"kNone\",\"conv_result_scale\":1,\"side_input_scale\":0,\"leakyrelu_alpha\":0},\"force_earliest_schedule\":false,\"reification_cost\":[]} is taking a while...\n",
      "2025-08-21 14:39:14.159643: E external/local_xla/xla/service/slow_operation_alarm.cc:73] Trying algorithm eng19{k2=4} for conv (f16[128,3,3,128]{3,2,1,0}, u8[0]{0}) custom-call(f16[64,112,112,128]{3,2,1,0}, f16[64,112,112,128]{3,2,1,0}), window={size=3x3 pad=1_1x1_1}, dim_labels=b01f_o01i->b01f, custom_call_target=\"__cudnn$convBackwardFilter\", backend_config={\"operation_queue_id\":\"0\",\"wait_on_operation_queues\":[],\"cudnn_conv_backend_config\":{\"activation_mode\":\"kNone\",\"conv_result_scale\":1,\"side_input_scale\":0,\"leakyrelu_alpha\":0},\"force_earliest_schedule\":false,\"reification_cost\":[]} is taking a while...\n",
      "2025-08-21 14:39:16.592404: E external/local_xla/xla/service/slow_operation_alarm.cc:140] The operation took 3.432890785s\n",
      "Trying algorithm eng19{k2=4} for conv (f16[128,3,3,128]{3,2,1,0}, u8[0]{0}) custom-call(f16[64,112,112,128]{3,2,1,0}, f16[64,112,112,128]{3,2,1,0}), window={size=3x3 pad=1_1x1_1}, dim_labels=b01f_o01i->b01f, custom_call_target=\"__cudnn$convBackwardFilter\", backend_config={\"operation_queue_id\":\"0\",\"wait_on_operation_queues\":[],\"cudnn_conv_backend_config\":{\"activation_mode\":\"kNone\",\"conv_result_scale\":1,\"side_input_scale\":0,\"leakyrelu_alpha\":0},\"force_earliest_schedule\":false,\"reification_cost\":[]} is taking a while...\n",
      "2025-08-21 14:39:17.592680: E external/local_xla/xla/service/slow_operation_alarm.cc:73] Trying algorithm eng19{k2=0} for conv (f16[128,3,3,128]{3,2,1,0}, u8[0]{0}) custom-call(f16[64,112,112,128]{3,2,1,0}, f16[64,112,112,128]{3,2,1,0}), window={size=3x3 pad=1_1x1_1}, dim_labels=b01f_o01i->b01f, custom_call_target=\"__cudnn$convBackwardFilter\", backend_config={\"operation_queue_id\":\"0\",\"wait_on_operation_queues\":[],\"cudnn_conv_backend_config\":{\"activation_mode\":\"kNone\",\"conv_result_scale\":1,\"side_input_scale\":0,\"leakyrelu_alpha\":0},\"force_earliest_schedule\":false,\"reification_cost\":[]} is taking a while...\n",
      "2025-08-21 14:39:21.862416: E external/local_xla/xla/service/slow_operation_alarm.cc:140] The operation took 5.269867218s\n",
      "Trying algorithm eng19{k2=0} for conv (f16[128,3,3,128]{3,2,1,0}, u8[0]{0}) custom-call(f16[64,112,112,128]{3,2,1,0}, f16[64,112,112,128]{3,2,1,0}), window={size=3x3 pad=1_1x1_1}, dim_labels=b01f_o01i->b01f, custom_call_target=\"__cudnn$convBackwardFilter\", backend_config={\"operation_queue_id\":\"0\",\"wait_on_operation_queues\":[],\"cudnn_conv_backend_config\":{\"activation_mode\":\"kNone\",\"conv_result_scale\":1,\"side_input_scale\":0,\"leakyrelu_alpha\":0},\"force_earliest_schedule\":false,\"reification_cost\":[]} is taking a while...\n",
      "2025-08-21 14:39:32.972649: E external/local_xla/xla/service/slow_operation_alarm.cc:73] Trying algorithm eng19{k2=3} for conv (f16[256,3,3,256]{3,2,1,0}, u8[0]{0}) custom-call(f16[64,56,56,256]{3,2,1,0}, f16[64,56,56,256]{3,2,1,0}), window={size=3x3 pad=1_1x1_1}, dim_labels=b01f_o01i->b01f, custom_call_target=\"__cudnn$convBackwardFilter\", backend_config={\"operation_queue_id\":\"0\",\"wait_on_operation_queues\":[],\"cudnn_conv_backend_config\":{\"activation_mode\":\"kNone\",\"conv_result_scale\":1,\"side_input_scale\":0,\"leakyrelu_alpha\":0},\"force_earliest_schedule\":false,\"reification_cost\":[]} is taking a while...\n",
      "2025-08-21 14:39:33.061116: E external/local_xla/xla/service/slow_operation_alarm.cc:140] The operation took 1.088605999s\n",
      "Trying algorithm eng19{k2=3} for conv (f16[256,3,3,256]{3,2,1,0}, u8[0]{0}) custom-call(f16[64,56,56,256]{3,2,1,0}, f16[64,56,56,256]{3,2,1,0}), window={size=3x3 pad=1_1x1_1}, dim_labels=b01f_o01i->b01f, custom_call_target=\"__cudnn$convBackwardFilter\", backend_config={\"operation_queue_id\":\"0\",\"wait_on_operation_queues\":[],\"cudnn_conv_backend_config\":{\"activation_mode\":\"kNone\",\"conv_result_scale\":1,\"side_input_scale\":0,\"leakyrelu_alpha\":0},\"force_earliest_schedule\":false,\"reification_cost\":[]} is taking a while...\n",
      "2025-08-21 14:39:34.061327: E external/local_xla/xla/service/slow_operation_alarm.cc:73] Trying algorithm eng19{k2=1} for conv (f16[256,3,3,256]{3,2,1,0}, u8[0]{0}) custom-call(f16[64,56,56,256]{3,2,1,0}, f16[64,56,56,256]{3,2,1,0}), window={size=3x3 pad=1_1x1_1}, dim_labels=b01f_o01i->b01f, custom_call_target=\"__cudnn$convBackwardFilter\", backend_config={\"operation_queue_id\":\"0\",\"wait_on_operation_queues\":[],\"cudnn_conv_backend_config\":{\"activation_mode\":\"kNone\",\"conv_result_scale\":1,\"side_input_scale\":0,\"leakyrelu_alpha\":0},\"force_earliest_schedule\":false,\"reification_cost\":[]} is taking a while...\n",
      "2025-08-21 14:39:34.160494: E external/local_xla/xla/service/slow_operation_alarm.cc:140] The operation took 1.099283834s\n",
      "Trying algorithm eng19{k2=1} for conv (f16[256,3,3,256]{3,2,1,0}, u8[0]{0}) custom-call(f16[64,56,56,256]{3,2,1,0}, f16[64,56,56,256]{3,2,1,0}), window={size=3x3 pad=1_1x1_1}, dim_labels=b01f_o01i->b01f, custom_call_target=\"__cudnn$convBackwardFilter\", backend_config={\"operation_queue_id\":\"0\",\"wait_on_operation_queues\":[],\"cudnn_conv_backend_config\":{\"activation_mode\":\"kNone\",\"conv_result_scale\":1,\"side_input_scale\":0,\"leakyrelu_alpha\":0},\"force_earliest_schedule\":false,\"reification_cost\":[]} is taking a while...\n",
      "2025-08-21 14:39:35.160660: E external/local_xla/xla/service/slow_operation_alarm.cc:73] Trying algorithm eng19{k2=4} for conv (f16[256,3,3,256]{3,2,1,0}, u8[0]{0}) custom-call(f16[64,56,56,256]{3,2,1,0}, f16[64,56,56,256]{3,2,1,0}), window={size=3x3 pad=1_1x1_1}, dim_labels=b01f_o01i->b01f, custom_call_target=\"__cudnn$convBackwardFilter\", backend_config={\"operation_queue_id\":\"0\",\"wait_on_operation_queues\":[],\"cudnn_conv_backend_config\":{\"activation_mode\":\"kNone\",\"conv_result_scale\":1,\"side_input_scale\":0,\"leakyrelu_alpha\":0},\"force_earliest_schedule\":false,\"reification_cost\":[]} is taking a while...\n",
      "2025-08-21 14:39:35.271722: E external/local_xla/xla/service/slow_operation_alarm.cc:140] The operation took 1.111167615s\n",
      "Trying algorithm eng19{k2=4} for conv (f16[256,3,3,256]{3,2,1,0}, u8[0]{0}) custom-call(f16[64,56,56,256]{3,2,1,0}, f16[64,56,56,256]{3,2,1,0}), window={size=3x3 pad=1_1x1_1}, dim_labels=b01f_o01i->b01f, custom_call_target=\"__cudnn$convBackwardFilter\", backend_config={\"operation_queue_id\":\"0\",\"wait_on_operation_queues\":[],\"cudnn_conv_backend_config\":{\"activation_mode\":\"kNone\",\"conv_result_scale\":1,\"side_input_scale\":0,\"leakyrelu_alpha\":0},\"force_earliest_schedule\":false,\"reification_cost\":[]} is taking a while...\n",
      "2025-08-21 14:39:36.271913: E external/local_xla/xla/service/slow_operation_alarm.cc:73] Trying algorithm eng19{k2=0} for conv (f16[256,3,3,256]{3,2,1,0}, u8[0]{0}) custom-call(f16[64,56,56,256]{3,2,1,0}, f16[64,56,56,256]{3,2,1,0}), window={size=3x3 pad=1_1x1_1}, dim_labels=b01f_o01i->b01f, custom_call_target=\"__cudnn$convBackwardFilter\", backend_config={\"operation_queue_id\":\"0\",\"wait_on_operation_queues\":[],\"cudnn_conv_backend_config\":{\"activation_mode\":\"kNone\",\"conv_result_scale\":1,\"side_input_scale\":0,\"leakyrelu_alpha\":0},\"force_earliest_schedule\":false,\"reification_cost\":[]} is taking a while...\n",
      "2025-08-21 14:39:36.479115: E external/local_xla/xla/service/slow_operation_alarm.cc:140] The operation took 1.207321569s\n",
      "Trying algorithm eng19{k2=0} for conv (f16[256,3,3,256]{3,2,1,0}, u8[0]{0}) custom-call(f16[64,56,56,256]{3,2,1,0}, f16[64,56,56,256]{3,2,1,0}), window={size=3x3 pad=1_1x1_1}, dim_labels=b01f_o01i->b01f, custom_call_target=\"__cudnn$convBackwardFilter\", backend_config={\"operation_queue_id\":\"0\",\"wait_on_operation_queues\":[],\"cudnn_conv_backend_config\":{\"activation_mode\":\"kNone\",\"conv_result_scale\":1,\"side_input_scale\":0,\"leakyrelu_alpha\":0},\"force_earliest_schedule\":false,\"reification_cost\":[]} is taking a while...\n",
      "2025-08-21 14:39:47.306542: E external/local_xla/xla/service/slow_operation_alarm.cc:73] Trying algorithm eng19{k2=1} for conv (f16[512,3,3,512]{3,2,1,0}, u8[0]{0}) custom-call(f16[64,28,28,512]{3,2,1,0}, f16[64,28,28,512]{3,2,1,0}), window={size=3x3 pad=1_1x1_1}, dim_labels=b01f_o01i->b01f, custom_call_target=\"__cudnn$convBackwardFilter\", backend_config={\"operation_queue_id\":\"0\",\"wait_on_operation_queues\":[],\"cudnn_conv_backend_config\":{\"activation_mode\":\"kNone\",\"conv_result_scale\":1,\"side_input_scale\":0,\"leakyrelu_alpha\":0},\"force_earliest_schedule\":false,\"reification_cost\":[]} is taking a while...\n",
      "2025-08-21 14:39:47.373955: E external/local_xla/xla/service/slow_operation_alarm.cc:140] The operation took 1.067534913s\n",
      "Trying algorithm eng19{k2=1} for conv (f16[512,3,3,512]{3,2,1,0}, u8[0]{0}) custom-call(f16[64,28,28,512]{3,2,1,0}, f16[64,28,28,512]{3,2,1,0}), window={size=3x3 pad=1_1x1_1}, dim_labels=b01f_o01i->b01f, custom_call_target=\"__cudnn$convBackwardFilter\", backend_config={\"operation_queue_id\":\"0\",\"wait_on_operation_queues\":[],\"cudnn_conv_backend_config\":{\"activation_mode\":\"kNone\",\"conv_result_scale\":1,\"side_input_scale\":0,\"leakyrelu_alpha\":0},\"force_earliest_schedule\":false,\"reification_cost\":[]} is taking a while...\n",
      "2025-08-21 14:39:48.374142: E external/local_xla/xla/service/slow_operation_alarm.cc:73] Trying algorithm eng19{k2=0} for conv (f16[512,3,3,512]{3,2,1,0}, u8[0]{0}) custom-call(f16[64,28,28,512]{3,2,1,0}, f16[64,28,28,512]{3,2,1,0}), window={size=3x3 pad=1_1x1_1}, dim_labels=b01f_o01i->b01f, custom_call_target=\"__cudnn$convBackwardFilter\", backend_config={\"operation_queue_id\":\"0\",\"wait_on_operation_queues\":[],\"cudnn_conv_backend_config\":{\"activation_mode\":\"kNone\",\"conv_result_scale\":1,\"side_input_scale\":0,\"leakyrelu_alpha\":0},\"force_earliest_schedule\":false,\"reification_cost\":[]} is taking a while...\n",
      "2025-08-21 14:39:48.559991: E external/local_xla/xla/service/slow_operation_alarm.cc:140] The operation took 1.185961586s\n",
      "Trying algorithm eng19{k2=0} for conv (f16[512,3,3,512]{3,2,1,0}, u8[0]{0}) custom-call(f16[64,28,28,512]{3,2,1,0}, f16[64,28,28,512]{3,2,1,0}), window={size=3x3 pad=1_1x1_1}, dim_labels=b01f_o01i->b01f, custom_call_target=\"__cudnn$convBackwardFilter\", backend_config={\"operation_queue_id\":\"0\",\"wait_on_operation_queues\":[],\"cudnn_conv_backend_config\":{\"activation_mode\":\"kNone\",\"conv_result_scale\":1,\"side_input_scale\":0,\"leakyrelu_alpha\":0},\"force_earliest_schedule\":false,\"reification_cost\":[]} is taking a while...\n",
      "2025-08-21 14:39:49.560193: E external/local_xla/xla/service/slow_operation_alarm.cc:73] Trying algorithm eng19{k2=3} for conv (f16[512,3,3,512]{3,2,1,0}, u8[0]{0}) custom-call(f16[64,28,28,512]{3,2,1,0}, f16[64,28,28,512]{3,2,1,0}), window={size=3x3 pad=1_1x1_1}, dim_labels=b01f_o01i->b01f, custom_call_target=\"__cudnn$convBackwardFilter\", backend_config={\"operation_queue_id\":\"0\",\"wait_on_operation_queues\":[],\"cudnn_conv_backend_config\":{\"activation_mode\":\"kNone\",\"conv_result_scale\":1,\"side_input_scale\":0,\"leakyrelu_alpha\":0},\"force_earliest_schedule\":false,\"reification_cost\":[]} is taking a while...\n",
      "2025-08-21 14:39:49.619873: E external/local_xla/xla/service/slow_operation_alarm.cc:140] The operation took 1.059798689s\n",
      "Trying algorithm eng19{k2=3} for conv (f16[512,3,3,512]{3,2,1,0}, u8[0]{0}) custom-call(f16[64,28,28,512]{3,2,1,0}, f16[64,28,28,512]{3,2,1,0}), window={size=3x3 pad=1_1x1_1}, dim_labels=b01f_o01i->b01f, custom_call_target=\"__cudnn$convBackwardFilter\", backend_config={\"operation_queue_id\":\"0\",\"wait_on_operation_queues\":[],\"cudnn_conv_backend_config\":{\"activation_mode\":\"kNone\",\"conv_result_scale\":1,\"side_input_scale\":0,\"leakyrelu_alpha\":0},\"force_earliest_schedule\":false,\"reification_cost\":[]} is taking a while...\n",
      "2025-08-21 14:39:50.620083: E external/local_xla/xla/service/slow_operation_alarm.cc:73] Trying algorithm eng19{k2=4} for conv (f16[512,3,3,512]{3,2,1,0}, u8[0]{0}) custom-call(f16[64,28,28,512]{3,2,1,0}, f16[64,28,28,512]{3,2,1,0}), window={size=3x3 pad=1_1x1_1}, dim_labels=b01f_o01i->b01f, custom_call_target=\"__cudnn$convBackwardFilter\", backend_config={\"operation_queue_id\":\"0\",\"wait_on_operation_queues\":[],\"cudnn_conv_backend_config\":{\"activation_mode\":\"kNone\",\"conv_result_scale\":1,\"side_input_scale\":0,\"leakyrelu_alpha\":0},\"force_earliest_schedule\":false,\"reification_cost\":[]} is taking a while...\n",
      "2025-08-21 14:39:50.713104: E external/local_xla/xla/service/slow_operation_alarm.cc:140] The operation took 1.093149109s\n",
      "Trying algorithm eng19{k2=4} for conv (f16[512,3,3,512]{3,2,1,0}, u8[0]{0}) custom-call(f16[64,28,28,512]{3,2,1,0}, f16[64,28,28,512]{3,2,1,0}), window={size=3x3 pad=1_1x1_1}, dim_labels=b01f_o01i->b01f, custom_call_target=\"__cudnn$convBackwardFilter\", backend_config={\"operation_queue_id\":\"0\",\"wait_on_operation_queues\":[],\"cudnn_conv_backend_config\":{\"activation_mode\":\"kNone\",\"conv_result_scale\":1,\"side_input_scale\":0,\"leakyrelu_alpha\":0},\"force_earliest_schedule\":false,\"reification_cost\":[]} is taking a while...\n"
     ]
    },
    {
     "name": "stdout",
     "output_type": "stream",
     "text": [
      "\u001b[1m344/345\u001b[0m \u001b[32m━━━━━━━━━━━━━━━━━━━\u001b[0m\u001b[37m━\u001b[0m \u001b[1m0s\u001b[0m 84ms/step - accuracy: 0.9451 - loss: 0.1659"
     ]
    },
    {
     "name": "stderr",
     "output_type": "stream",
     "text": [
      "2025-08-21 14:40:41.364747: E external/local_xla/xla/service/slow_operation_alarm.cc:73] Trying algorithm eng19{k2=3} for conv (f16[64,3,3,64]{3,2,1,0}, u8[0]{0}) custom-call(f16[30,224,224,64]{3,2,1,0}, f16[30,224,224,64]{3,2,1,0}), window={size=3x3 pad=1_1x1_1}, dim_labels=b01f_o01i->b01f, custom_call_target=\"__cudnn$convBackwardFilter\", backend_config={\"operation_queue_id\":\"0\",\"wait_on_operation_queues\":[],\"cudnn_conv_backend_config\":{\"activation_mode\":\"kNone\",\"conv_result_scale\":1,\"side_input_scale\":0,\"leakyrelu_alpha\":0},\"force_earliest_schedule\":false,\"reification_cost\":[]} is taking a while...\n",
      "2025-08-21 14:40:42.392888: E external/local_xla/xla/service/slow_operation_alarm.cc:140] The operation took 2.028269502s\n",
      "Trying algorithm eng19{k2=3} for conv (f16[64,3,3,64]{3,2,1,0}, u8[0]{0}) custom-call(f16[30,224,224,64]{3,2,1,0}, f16[30,224,224,64]{3,2,1,0}), window={size=3x3 pad=1_1x1_1}, dim_labels=b01f_o01i->b01f, custom_call_target=\"__cudnn$convBackwardFilter\", backend_config={\"operation_queue_id\":\"0\",\"wait_on_operation_queues\":[],\"cudnn_conv_backend_config\":{\"activation_mode\":\"kNone\",\"conv_result_scale\":1,\"side_input_scale\":0,\"leakyrelu_alpha\":0},\"force_earliest_schedule\":false,\"reification_cost\":[]} is taking a while...\n",
      "2025-08-21 14:40:43.393223: E external/local_xla/xla/service/slow_operation_alarm.cc:73] Trying algorithm eng19{k2=1} for conv (f16[64,3,3,64]{3,2,1,0}, u8[0]{0}) custom-call(f16[30,224,224,64]{3,2,1,0}, f16[30,224,224,64]{3,2,1,0}), window={size=3x3 pad=1_1x1_1}, dim_labels=b01f_o01i->b01f, custom_call_target=\"__cudnn$convBackwardFilter\", backend_config={\"operation_queue_id\":\"0\",\"wait_on_operation_queues\":[],\"cudnn_conv_backend_config\":{\"activation_mode\":\"kNone\",\"conv_result_scale\":1,\"side_input_scale\":0,\"leakyrelu_alpha\":0},\"force_earliest_schedule\":false,\"reification_cost\":[]} is taking a while...\n",
      "2025-08-21 14:40:43.641401: E external/local_xla/xla/service/slow_operation_alarm.cc:140] The operation took 1.248295915s\n",
      "Trying algorithm eng19{k2=1} for conv (f16[64,3,3,64]{3,2,1,0}, u8[0]{0}) custom-call(f16[30,224,224,64]{3,2,1,0}, f16[30,224,224,64]{3,2,1,0}), window={size=3x3 pad=1_1x1_1}, dim_labels=b01f_o01i->b01f, custom_call_target=\"__cudnn$convBackwardFilter\", backend_config={\"operation_queue_id\":\"0\",\"wait_on_operation_queues\":[],\"cudnn_conv_backend_config\":{\"activation_mode\":\"kNone\",\"conv_result_scale\":1,\"side_input_scale\":0,\"leakyrelu_alpha\":0},\"force_earliest_schedule\":false,\"reification_cost\":[]} is taking a while...\n",
      "2025-08-21 14:40:44.641605: E external/local_xla/xla/service/slow_operation_alarm.cc:73] Trying algorithm eng19{k2=4} for conv (f16[64,3,3,64]{3,2,1,0}, u8[0]{0}) custom-call(f16[30,224,224,64]{3,2,1,0}, f16[30,224,224,64]{3,2,1,0}), window={size=3x3 pad=1_1x1_1}, dim_labels=b01f_o01i->b01f, custom_call_target=\"__cudnn$convBackwardFilter\", backend_config={\"operation_queue_id\":\"0\",\"wait_on_operation_queues\":[],\"cudnn_conv_backend_config\":{\"activation_mode\":\"kNone\",\"conv_result_scale\":1,\"side_input_scale\":0,\"leakyrelu_alpha\":0},\"force_earliest_schedule\":false,\"reification_cost\":[]} is taking a while...\n",
      "2025-08-21 14:40:47.668202: E external/local_xla/xla/service/slow_operation_alarm.cc:140] The operation took 4.026725986s\n",
      "Trying algorithm eng19{k2=4} for conv (f16[64,3,3,64]{3,2,1,0}, u8[0]{0}) custom-call(f16[30,224,224,64]{3,2,1,0}, f16[30,224,224,64]{3,2,1,0}), window={size=3x3 pad=1_1x1_1}, dim_labels=b01f_o01i->b01f, custom_call_target=\"__cudnn$convBackwardFilter\", backend_config={\"operation_queue_id\":\"0\",\"wait_on_operation_queues\":[],\"cudnn_conv_backend_config\":{\"activation_mode\":\"kNone\",\"conv_result_scale\":1,\"side_input_scale\":0,\"leakyrelu_alpha\":0},\"force_earliest_schedule\":false,\"reification_cost\":[]} is taking a while...\n",
      "2025-08-21 14:40:48.668479: E external/local_xla/xla/service/slow_operation_alarm.cc:73] Trying algorithm eng19{k2=0} for conv (f16[64,3,3,64]{3,2,1,0}, u8[0]{0}) custom-call(f16[30,224,224,64]{3,2,1,0}, f16[30,224,224,64]{3,2,1,0}), window={size=3x3 pad=1_1x1_1}, dim_labels=b01f_o01i->b01f, custom_call_target=\"__cudnn$convBackwardFilter\", backend_config={\"operation_queue_id\":\"0\",\"wait_on_operation_queues\":[],\"cudnn_conv_backend_config\":{\"activation_mode\":\"kNone\",\"conv_result_scale\":1,\"side_input_scale\":0,\"leakyrelu_alpha\":0},\"force_earliest_schedule\":false,\"reification_cost\":[]} is taking a while...\n",
      "2025-08-21 14:40:49.547709: E external/local_xla/xla/service/slow_operation_alarm.cc:140] The operation took 1.879329828s\n",
      "Trying algorithm eng19{k2=0} for conv (f16[64,3,3,64]{3,2,1,0}, u8[0]{0}) custom-call(f16[30,224,224,64]{3,2,1,0}, f16[30,224,224,64]{3,2,1,0}), window={size=3x3 pad=1_1x1_1}, dim_labels=b01f_o01i->b01f, custom_call_target=\"__cudnn$convBackwardFilter\", backend_config={\"operation_queue_id\":\"0\",\"wait_on_operation_queues\":[],\"cudnn_conv_backend_config\":{\"activation_mode\":\"kNone\",\"conv_result_scale\":1,\"side_input_scale\":0,\"leakyrelu_alpha\":0},\"force_earliest_schedule\":false,\"reification_cost\":[]} is taking a while...\n"
     ]
    },
    {
     "name": "stdout",
     "output_type": "stream",
     "text": [
      "\u001b[1m345/345\u001b[0m \u001b[32m━━━━━━━━━━━━━━━━━━━━\u001b[0m\u001b[37m\u001b[0m \u001b[1m220s\u001b[0m 277ms/step - accuracy: 0.9516 - loss: 0.1453 - val_accuracy: 0.9590 - val_loss: 0.1125 - learning_rate: 1.0000e-05\n",
      "Epoch 2/50\n",
      "\u001b[1m345/345\u001b[0m \u001b[32m━━━━━━━━━━━━━━━━━━━━\u001b[0m\u001b[37m\u001b[0m \u001b[1m46s\u001b[0m 130ms/step - accuracy: 0.9588 - loss: 0.1188 - val_accuracy: 0.9619 - val_loss: 0.1067 - learning_rate: 1.0000e-05\n",
      "Epoch 3/50\n",
      "\u001b[1m345/345\u001b[0m \u001b[32m━━━━━━━━━━━━━━━━━━━━\u001b[0m\u001b[37m\u001b[0m \u001b[1m46s\u001b[0m 127ms/step - accuracy: 0.9619 - loss: 0.1106 - val_accuracy: 0.9623 - val_loss: 0.1089 - learning_rate: 1.0000e-05\n",
      "Epoch 4/50\n",
      "\u001b[1m345/345\u001b[0m \u001b[32m━━━━━━━━━━━━━━━━━━━━\u001b[0m\u001b[37m\u001b[0m \u001b[1m48s\u001b[0m 133ms/step - accuracy: 0.9633 - loss: 0.1044 - val_accuracy: 0.9677 - val_loss: 0.0960 - learning_rate: 1.0000e-05\n",
      "Epoch 5/50\n",
      "\u001b[1m345/345\u001b[0m \u001b[32m━━━━━━━━━━━━━━━━━━━━\u001b[0m\u001b[37m\u001b[0m \u001b[1m48s\u001b[0m 134ms/step - accuracy: 0.9663 - loss: 0.0964 - val_accuracy: 0.9663 - val_loss: 0.1103 - learning_rate: 1.0000e-05\n",
      "Epoch 6/50\n",
      "\u001b[1m345/345\u001b[0m \u001b[32m━━━━━━━━━━━━━━━━━━━━\u001b[0m\u001b[37m\u001b[0m \u001b[1m46s\u001b[0m 129ms/step - accuracy: 0.9667 - loss: 0.0944 - val_accuracy: 0.9641 - val_loss: 0.0957 - learning_rate: 1.0000e-05\n",
      "Epoch 7/50\n",
      "\u001b[1m345/345\u001b[0m \u001b[32m━━━━━━━━━━━━━━━━━━━━\u001b[0m\u001b[37m\u001b[0m \u001b[1m48s\u001b[0m 133ms/step - accuracy: 0.9686 - loss: 0.0886 - val_accuracy: 0.9673 - val_loss: 0.0891 - learning_rate: 1.0000e-05\n",
      "Epoch 8/50\n",
      "\u001b[1m345/345\u001b[0m \u001b[32m━━━━━━━━━━━━━━━━━━━━\u001b[0m\u001b[37m\u001b[0m \u001b[1m48s\u001b[0m 134ms/step - accuracy: 0.9702 - loss: 0.0833 - val_accuracy: 0.9688 - val_loss: 0.0915 - learning_rate: 1.0000e-05\n",
      "Epoch 9/50\n",
      "\u001b[1m345/345\u001b[0m \u001b[32m━━━━━━━━━━━━━━━━━━━━\u001b[0m\u001b[37m\u001b[0m \u001b[1m47s\u001b[0m 132ms/step - accuracy: 0.9713 - loss: 0.0827 - val_accuracy: 0.9692 - val_loss: 0.0875 - learning_rate: 1.0000e-05\n",
      "Epoch 10/50\n",
      "\u001b[1m345/345\u001b[0m \u001b[32m━━━━━━━━━━━━━━━━━━━━\u001b[0m\u001b[37m\u001b[0m \u001b[1m47s\u001b[0m 131ms/step - accuracy: 0.9731 - loss: 0.0779 - val_accuracy: 0.9699 - val_loss: 0.0939 - learning_rate: 1.0000e-05\n",
      "Epoch 11/50\n",
      "\u001b[1m345/345\u001b[0m \u001b[32m━━━━━━━━━━━━━━━━━━━━\u001b[0m\u001b[37m\u001b[0m \u001b[1m48s\u001b[0m 134ms/step - accuracy: 0.9740 - loss: 0.0757 - val_accuracy: 0.9710 - val_loss: 0.0954 - learning_rate: 1.0000e-05\n",
      "Epoch 12/50\n",
      "\u001b[1m345/345\u001b[0m \u001b[32m━━━━━━━━━━━━━━━━━━━━\u001b[0m\u001b[37m\u001b[0m \u001b[1m47s\u001b[0m 130ms/step - accuracy: 0.9751 - loss: 0.0736 - val_accuracy: 0.9710 - val_loss: 0.0873 - learning_rate: 1.0000e-05\n",
      "Epoch 13/50\n",
      "\u001b[1m345/345\u001b[0m \u001b[32m━━━━━━━━━━━━━━━━━━━━\u001b[0m\u001b[37m\u001b[0m \u001b[1m48s\u001b[0m 134ms/step - accuracy: 0.9754 - loss: 0.0710 - val_accuracy: 0.9713 - val_loss: 0.0928 - learning_rate: 1.0000e-05\n",
      "Epoch 14/50\n",
      "\u001b[1m345/345\u001b[0m \u001b[32m━━━━━━━━━━━━━━━━━━━━\u001b[0m\u001b[37m\u001b[0m \u001b[1m47s\u001b[0m 132ms/step - accuracy: 0.9756 - loss: 0.0701 - val_accuracy: 0.9699 - val_loss: 0.0885 - learning_rate: 1.0000e-05\n",
      "Epoch 15/50\n",
      "\u001b[1m345/345\u001b[0m \u001b[32m━━━━━━━━━━━━━━━━━━━━\u001b[0m\u001b[37m\u001b[0m \u001b[1m49s\u001b[0m 136ms/step - accuracy: 0.9771 - loss: 0.0660 - val_accuracy: 0.9721 - val_loss: 0.0910 - learning_rate: 1.0000e-05\n",
      "Epoch 16/50\n",
      "\u001b[1m345/345\u001b[0m \u001b[32m━━━━━━━━━━━━━━━━━━━━\u001b[0m\u001b[37m\u001b[0m \u001b[1m48s\u001b[0m 133ms/step - accuracy: 0.9794 - loss: 0.0609 - val_accuracy: 0.9695 - val_loss: 0.0873 - learning_rate: 5.0000e-06\n",
      "Epoch 17/50\n",
      "\u001b[1m345/345\u001b[0m \u001b[32m━━━━━━━━━━━━━━━━━━━━\u001b[0m\u001b[37m\u001b[0m \u001b[1m48s\u001b[0m 132ms/step - accuracy: 0.9814 - loss: 0.0575 - val_accuracy: 0.9717 - val_loss: 0.0873 - learning_rate: 5.0000e-06\n",
      "Epoch 18/50\n",
      "\u001b[1m345/345\u001b[0m \u001b[32m━━━━━━━━━━━━━━━━━━━━\u001b[0m\u001b[37m\u001b[0m \u001b[1m47s\u001b[0m 132ms/step - accuracy: 0.9812 - loss: 0.0550 - val_accuracy: 0.9713 - val_loss: 0.0897 - learning_rate: 5.0000e-06\n",
      "Epoch 19/50\n",
      "\u001b[1m345/345\u001b[0m \u001b[32m━━━━━━━━━━━━━━━━━━━━\u001b[0m\u001b[37m\u001b[0m \u001b[1m48s\u001b[0m 133ms/step - accuracy: 0.9816 - loss: 0.0524 - val_accuracy: 0.9728 - val_loss: 0.0892 - learning_rate: 2.5000e-06\n",
      "Epoch 20/50\n",
      "\u001b[1m345/345\u001b[0m \u001b[32m━━━━━━━━━━━━━━━━━━━━\u001b[0m\u001b[37m\u001b[0m \u001b[1m47s\u001b[0m 130ms/step - accuracy: 0.9830 - loss: 0.0518 - val_accuracy: 0.9721 - val_loss: 0.0868 - learning_rate: 2.5000e-06\n",
      "Epoch 21/50\n",
      "\u001b[1m345/345\u001b[0m \u001b[32m━━━━━━━━━━━━━━━━━━━━\u001b[0m\u001b[37m\u001b[0m \u001b[1m48s\u001b[0m 134ms/step - accuracy: 0.9820 - loss: 0.0524 - val_accuracy: 0.9724 - val_loss: 0.0849 - learning_rate: 2.5000e-06\n",
      "Epoch 22/50\n",
      "\u001b[1m345/345\u001b[0m \u001b[32m━━━━━━━━━━━━━━━━━━━━\u001b[0m\u001b[37m\u001b[0m \u001b[1m46s\u001b[0m 129ms/step - accuracy: 0.9829 - loss: 0.0507 - val_accuracy: 0.9713 - val_loss: 0.0854 - learning_rate: 2.5000e-06\n",
      "Epoch 23/50\n",
      "\u001b[1m345/345\u001b[0m \u001b[32m━━━━━━━━━━━━━━━━━━━━\u001b[0m\u001b[37m\u001b[0m \u001b[1m48s\u001b[0m 133ms/step - accuracy: 0.9835 - loss: 0.0481 - val_accuracy: 0.9706 - val_loss: 0.0906 - learning_rate: 2.5000e-06\n",
      "Epoch 24/50\n",
      "\u001b[1m345/345\u001b[0m \u001b[32m━━━━━━━━━━━━━━━━━━━━\u001b[0m\u001b[37m\u001b[0m \u001b[1m49s\u001b[0m 135ms/step - accuracy: 0.9839 - loss: 0.0484 - val_accuracy: 0.9731 - val_loss: 0.0860 - learning_rate: 2.5000e-06\n",
      "Epoch 25/50\n",
      "\u001b[1m345/345\u001b[0m \u001b[32m━━━━━━━━━━━━━━━━━━━━\u001b[0m\u001b[37m\u001b[0m \u001b[1m48s\u001b[0m 134ms/step - accuracy: 0.9840 - loss: 0.0469 - val_accuracy: 0.9728 - val_loss: 0.0880 - learning_rate: 1.2500e-06\n",
      "Epoch 26/50\n",
      "\u001b[1m345/345\u001b[0m \u001b[32m━━━━━━━━━━━━━━━━━━━━\u001b[0m\u001b[37m\u001b[0m \u001b[1m47s\u001b[0m 132ms/step - accuracy: 0.9839 - loss: 0.0486 - val_accuracy: 0.9724 - val_loss: 0.0861 - learning_rate: 1.2500e-06\n",
      "Epoch 27/50\n",
      "\u001b[1m345/345\u001b[0m \u001b[32m━━━━━━━━━━━━━━━━━━━━\u001b[0m\u001b[37m\u001b[0m \u001b[1m47s\u001b[0m 132ms/step - accuracy: 0.9853 - loss: 0.0438 - val_accuracy: 0.9728 - val_loss: 0.0937 - learning_rate: 1.2500e-06\n"
     ]
    },
    {
     "data": {
      "text/plain": [
       "<keras.src.callbacks.history.History at 0x7c287bba1850>"
      ]
     },
     "execution_count": 5,
     "metadata": {},
     "output_type": "execute_result"
    }
   ],
   "source": [
    "# Fine-tune\n",
    "base.trainable = True\n",
    "for layer in base.layers[:-20]:\n",
    "    layer.trainable = False\n",
    "\n",
    "model.compile(\n",
    "    optimizer=keras.optimizers.AdamW(learning_rate=1e-5, weight_decay=1e-4),\n",
    "    loss=keras.losses.BinaryCrossentropy(),\n",
    "    metrics=['accuracy']\n",
    ")\n",
    "\n",
    "model.fit(train_gen, epochs=50, validation_data=val_gen, callbacks=callbacks)"
   ]
  },
  {
   "cell_type": "markdown",
   "id": "4a540ec5",
   "metadata": {},
   "source": [
    "# Evaluate"
   ]
  },
  {
   "cell_type": "code",
   "execution_count": 6,
   "id": "80b6c82e",
   "metadata": {},
   "outputs": [
    {
     "name": "stdout",
     "output_type": "stream",
     "text": [
      "Test loss: 0.0851 | acc: 0.9742\n"
     ]
    }
   ],
   "source": [
    "test_loss, test_acc = model.evaluate(test_gen, verbose=0)\n",
    "print(f\"Test loss: {test_loss:.4f} | acc: {test_acc:.4f}\")"
   ]
  },
  {
   "cell_type": "markdown",
   "id": "962df3e5",
   "metadata": {},
   "source": [
    "# Confusion matrix"
   ]
  },
  {
   "cell_type": "code",
   "execution_count": 7,
   "id": "4fcbb19b",
   "metadata": {},
   "outputs": [
    {
     "name": "stderr",
     "output_type": "stream",
     "text": [
      "2025-08-21 15:02:27.713517: I tensorflow/core/framework/local_rendezvous.cc:407] Local rendezvous is aborting with status: OUT_OF_RANGE: End of sequence\n"
     ]
    },
    {
     "name": "stdout",
     "output_type": "stream",
     "text": [
      "\u001b[1m44/44\u001b[0m \u001b[32m━━━━━━━━━━━━━━━━━━━━\u001b[0m\u001b[37m\u001b[0m \u001b[1m3s\u001b[0m 48ms/step\n"
     ]
    },
    {
     "data": {
      "image/png": "[encoded data removed]",
      "text/plain": [
       "<Figure size 500x400 with 2 Axes>"
      ]
     },
     "metadata": {},
     "output_type": "display_data"
    },
    {
     "name": "stdout",
     "output_type": "stream",
     "text": [
      "              precision    recall  f1-score   support\n",
      "\n",
      "  Uninfected       0.98      0.97      0.97      1378\n",
      " Parasitized       0.97      0.98      0.97      1378\n",
      "\n",
      "    accuracy                           0.97      2756\n",
      "   macro avg       0.97      0.97      0.97      2756\n",
      "weighted avg       0.97      0.97      0.97      2756\n",
      "\n"
     ]
    }
   ],
   "source": [
    "y_true = np.concatenate([y for x, y in test_gen], axis=0)              # ground truth\n",
    "y_pred = model.predict(test_gen)                                       # dự đoán xác suất\n",
    "y_pred_classes = (y_pred > 0.5).astype(\"int32\").flatten()              # chuyển sang 0/1\n",
    "\n",
    "cm = confusion_matrix(y_true, y_pred_classes)\n",
    "labels = [\"Uninfected\", \"Parasitized\"]\n",
    "\n",
    "plt.figure(figsize=(5,4))\n",
    "sns.heatmap(cm, annot=True, fmt=\"d\", cmap=\"Blues\",\n",
    "            xticklabels=labels, yticklabels=labels)\n",
    "plt.xlabel(\"Predicted\")\n",
    "plt.ylabel(\"True\")\n",
    "plt.title(\"Confusion Matrix\")\n",
    "plt.show()\n",
    "\n",
    "print(classification_report(y_true, y_pred_classes, target_names=labels))"
   ]
  }
 ],
 "metadata": {
  "kernelspec": {
   "display_name": "Python3 (ipykernel)",
   "language": "python",
   "name": "python3"
  },
  "language_info": {
   "codemirror_mode": {
    "name": "ipython",
    "version": 3
   },
   "file_extension": ".py",
   "mimetype": "text/x-python",
   "name": "python",
   "nbconvert_exporter": "python",
   "pygments_lexer": "ipython3",
   "version": "3.12.11"
  }
 },
 "nbformat": 4,
 "nbformat_minor": 5
}
